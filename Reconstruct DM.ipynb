{
  "nbformat": 4,
  "nbformat_minor": 0,
  "metadata": {
    "colab": {
      "name": "Reconstruct DM.ipynb",
      "provenance": [],
      "collapsed_sections": [],
      "authorship_tag": "ABX9TyPJzvAuNH0sZPL9Geo9uFMp",
      "include_colab_link": true
    },
    "kernelspec": {
      "name": "python3",
      "display_name": "Python 3"
    },
    "widgets": {
      "application/vnd.jupyter.widget-state+json": {
        "2611a84d5f534eccbd67f62f427a8642": {
          "model_module": "@jupyter-widgets/controls",
          "model_name": "HBoxModel",
          "state": {
            "_view_name": "HBoxView",
            "_dom_classes": [],
            "_model_name": "HBoxModel",
            "_view_module": "@jupyter-widgets/controls",
            "_model_module_version": "1.5.0",
            "_view_count": null,
            "_view_module_version": "1.5.0",
            "box_style": "",
            "layout": "IPY_MODEL_b3a429fc4b484cf8a622eb679fedf479",
            "_model_module": "@jupyter-widgets/controls",
            "children": [
              "IPY_MODEL_4a1857c0a27d4c48945e102badeef4b2",
              "IPY_MODEL_f6cf9c11cfae4e34a4368c72cdd0ba44"
            ]
          }
        },
        "b3a429fc4b484cf8a622eb679fedf479": {
          "model_module": "@jupyter-widgets/base",
          "model_name": "LayoutModel",
          "state": {
            "_view_name": "LayoutView",
            "grid_template_rows": null,
            "right": null,
            "justify_content": null,
            "_view_module": "@jupyter-widgets/base",
            "overflow": null,
            "_model_module_version": "1.2.0",
            "_view_count": null,
            "flex_flow": null,
            "width": null,
            "min_width": null,
            "border": null,
            "align_items": null,
            "bottom": null,
            "_model_module": "@jupyter-widgets/base",
            "top": null,
            "grid_column": null,
            "overflow_y": null,
            "overflow_x": null,
            "grid_auto_flow": null,
            "grid_area": null,
            "grid_template_columns": null,
            "flex": null,
            "_model_name": "LayoutModel",
            "justify_items": null,
            "grid_row": null,
            "max_height": null,
            "align_content": null,
            "visibility": null,
            "align_self": null,
            "height": null,
            "min_height": null,
            "padding": null,
            "grid_auto_rows": null,
            "grid_gap": null,
            "max_width": null,
            "order": null,
            "_view_module_version": "1.2.0",
            "grid_template_areas": null,
            "object_position": null,
            "object_fit": null,
            "grid_auto_columns": null,
            "margin": null,
            "display": null,
            "left": null
          }
        },
        "4a1857c0a27d4c48945e102badeef4b2": {
          "model_module": "@jupyter-widgets/controls",
          "model_name": "IntProgressModel",
          "state": {
            "_view_name": "ProgressView",
            "style": "IPY_MODEL_56648019e3a74c47b849bbe0c122106a",
            "_dom_classes": [],
            "description": "Epochs: 100%",
            "_model_name": "IntProgressModel",
            "bar_style": "success",
            "max": 20,
            "_view_module": "@jupyter-widgets/controls",
            "_model_module_version": "1.5.0",
            "value": 20,
            "_view_count": null,
            "_view_module_version": "1.5.0",
            "orientation": "horizontal",
            "min": 0,
            "description_tooltip": null,
            "_model_module": "@jupyter-widgets/controls",
            "layout": "IPY_MODEL_19a0f815f28f4d93a04358c8ea4aab14"
          }
        },
        "f6cf9c11cfae4e34a4368c72cdd0ba44": {
          "model_module": "@jupyter-widgets/controls",
          "model_name": "HTMLModel",
          "state": {
            "_view_name": "HTMLView",
            "style": "IPY_MODEL_35986ac809c849aeaf2460638a9bfd3b",
            "_dom_classes": [],
            "description": "",
            "_model_name": "HTMLModel",
            "placeholder": "​",
            "_view_module": "@jupyter-widgets/controls",
            "_model_module_version": "1.5.0",
            "value": " 20/20 [01:55&lt;00:00,  5.77s/it]",
            "_view_count": null,
            "_view_module_version": "1.5.0",
            "description_tooltip": null,
            "_model_module": "@jupyter-widgets/controls",
            "layout": "IPY_MODEL_2da5e499a9df47718702802e96f5fa41"
          }
        },
        "56648019e3a74c47b849bbe0c122106a": {
          "model_module": "@jupyter-widgets/controls",
          "model_name": "ProgressStyleModel",
          "state": {
            "_view_name": "StyleView",
            "_model_name": "ProgressStyleModel",
            "description_width": "initial",
            "_view_module": "@jupyter-widgets/base",
            "_model_module_version": "1.5.0",
            "_view_count": null,
            "_view_module_version": "1.2.0",
            "bar_color": null,
            "_model_module": "@jupyter-widgets/controls"
          }
        },
        "19a0f815f28f4d93a04358c8ea4aab14": {
          "model_module": "@jupyter-widgets/base",
          "model_name": "LayoutModel",
          "state": {
            "_view_name": "LayoutView",
            "grid_template_rows": null,
            "right": null,
            "justify_content": null,
            "_view_module": "@jupyter-widgets/base",
            "overflow": null,
            "_model_module_version": "1.2.0",
            "_view_count": null,
            "flex_flow": null,
            "width": null,
            "min_width": null,
            "border": null,
            "align_items": null,
            "bottom": null,
            "_model_module": "@jupyter-widgets/base",
            "top": null,
            "grid_column": null,
            "overflow_y": null,
            "overflow_x": null,
            "grid_auto_flow": null,
            "grid_area": null,
            "grid_template_columns": null,
            "flex": null,
            "_model_name": "LayoutModel",
            "justify_items": null,
            "grid_row": null,
            "max_height": null,
            "align_content": null,
            "visibility": null,
            "align_self": null,
            "height": null,
            "min_height": null,
            "padding": null,
            "grid_auto_rows": null,
            "grid_gap": null,
            "max_width": null,
            "order": null,
            "_view_module_version": "1.2.0",
            "grid_template_areas": null,
            "object_position": null,
            "object_fit": null,
            "grid_auto_columns": null,
            "margin": null,
            "display": null,
            "left": null
          }
        },
        "35986ac809c849aeaf2460638a9bfd3b": {
          "model_module": "@jupyter-widgets/controls",
          "model_name": "DescriptionStyleModel",
          "state": {
            "_view_name": "StyleView",
            "_model_name": "DescriptionStyleModel",
            "description_width": "",
            "_view_module": "@jupyter-widgets/base",
            "_model_module_version": "1.5.0",
            "_view_count": null,
            "_view_module_version": "1.2.0",
            "_model_module": "@jupyter-widgets/controls"
          }
        },
        "2da5e499a9df47718702802e96f5fa41": {
          "model_module": "@jupyter-widgets/base",
          "model_name": "LayoutModel",
          "state": {
            "_view_name": "LayoutView",
            "grid_template_rows": null,
            "right": null,
            "justify_content": null,
            "_view_module": "@jupyter-widgets/base",
            "overflow": null,
            "_model_module_version": "1.2.0",
            "_view_count": null,
            "flex_flow": null,
            "width": null,
            "min_width": null,
            "border": null,
            "align_items": null,
            "bottom": null,
            "_model_module": "@jupyter-widgets/base",
            "top": null,
            "grid_column": null,
            "overflow_y": null,
            "overflow_x": null,
            "grid_auto_flow": null,
            "grid_area": null,
            "grid_template_columns": null,
            "flex": null,
            "_model_name": "LayoutModel",
            "justify_items": null,
            "grid_row": null,
            "max_height": null,
            "align_content": null,
            "visibility": null,
            "align_self": null,
            "height": null,
            "min_height": null,
            "padding": null,
            "grid_auto_rows": null,
            "grid_gap": null,
            "max_width": null,
            "order": null,
            "_view_module_version": "1.2.0",
            "grid_template_areas": null,
            "object_position": null,
            "object_fit": null,
            "grid_auto_columns": null,
            "margin": null,
            "display": null,
            "left": null
          }
        }
      }
    }
  },
  "cells": [
    {
      "cell_type": "markdown",
      "metadata": {
        "id": "view-in-github",
        "colab_type": "text"
      },
      "source": [
        "<a href=\"https://colab.research.google.com/github/nahumsa/DM-Reconstruction/blob/Tensorflow_test/Reconstruct%20DM.ipynb\" target=\"_parent\"><img src=\"https://colab.research.google.com/assets/colab-badge.svg\" alt=\"Open In Colab\"/></a>"
      ]
    },
    {
      "cell_type": "markdown",
      "metadata": {
        "id": "7iavbKiKltUC",
        "colab_type": "text"
      },
      "source": [
        "# Reconstruction of a density matrix"
      ]
    },
    {
      "cell_type": "markdown",
      "metadata": {
        "id": "IyyOmdrhl0M6",
        "colab_type": "text"
      },
      "source": [
        "### Import dependencies for Google Colab"
      ]
    },
    {
      "cell_type": "code",
      "metadata": {
        "id": "or1p7TPNljDn",
        "colab_type": "code",
        "colab": {}
      },
      "source": [
        "! git clone https://github.com/nahumsa/DM-Reconstruction"
      ],
      "execution_count": 0,
      "outputs": []
    },
    {
      "cell_type": "code",
      "metadata": {
        "id": "X2mpd0AWmLyu",
        "colab_type": "code",
        "colab": {}
      },
      "source": [
        "!pip install qutip"
      ],
      "execution_count": 0,
      "outputs": []
    },
    {
      "cell_type": "code",
      "metadata": {
        "id": "krooM51-ls4K",
        "colab_type": "code",
        "colab": {}
      },
      "source": [
        "% cd DM-Reconstruction/"
      ],
      "execution_count": 0,
      "outputs": []
    },
    {
      "cell_type": "markdown",
      "metadata": {
        "id": "51n6qyGel7Cu",
        "colab_type": "text"
      },
      "source": [
        "##Import Dependencies"
      ]
    },
    {
      "cell_type": "code",
      "metadata": {
        "id": "s6XbBlzomUE1",
        "colab_type": "code",
        "colab": {}
      },
      "source": [
        "try:\n",
        "  %tensorflow_version 2.x\n",
        "\n",
        "except Exception:\n",
        "  pass\n",
        "  \n",
        "import tensorflow as tf\n",
        "\n",
        "#Set Random Seed for reproduction\n",
        "tf.random.set_seed(1234)\n",
        "\n",
        "# Remove warnings\n",
        "import logging\n",
        "logging.getLogger('tensorflow').disabled = True\n",
        "\n",
        "#Use this to not need to initialize tensors outside session\n",
        "tf.config.experimental_run_functions_eagerly(True)"
      ],
      "execution_count": 0,
      "outputs": []
    },
    {
      "cell_type": "code",
      "metadata": {
        "id": "11b8B7JbmhC0",
        "colab_type": "code",
        "colab": {}
      },
      "source": [
        "%matplotlib inline\n",
        "import matplotlib.pyplot as plt\n",
        "import numpy as np\n",
        "import qutip\n",
        "from tqdm import tqdm_notebook"
      ],
      "execution_count": 0,
      "outputs": []
    },
    {
      "cell_type": "markdown",
      "metadata": {
        "id": "mPm1NbddH2kC",
        "colab_type": "text"
      },
      "source": [
        "## Creating dataset"
      ]
    },
    {
      "cell_type": "code",
      "metadata": {
        "id": "V9UD_UPnoqia",
        "colab_type": "code",
        "colab": {}
      },
      "source": [
        "from Utils.Dataset import create_dataset\n",
        "\n",
        "samples_train = 5000\n",
        "states_train, measurements_train, labels_train = create_dataset(samples_train)\n",
        "\n",
        "samples_test = 3000\n",
        "states_test, measurements_test, labels_test = create_dataset(samples_test)"
      ],
      "execution_count": 0,
      "outputs": []
    },
    {
      "cell_type": "code",
      "metadata": {
        "id": "s6dn7Kgxsbq9",
        "colab_type": "code",
        "outputId": "0e076e45-0a5e-4868-974f-09300b85fb13",
        "colab": {
          "base_uri": "https://localhost:8080/",
          "height": 52
        }
      },
      "source": [
        "from Utils.Dataset import create_x\n",
        "\n",
        "#Transforming in an np.array\n",
        "X_train = np.array(create_x(measurements_train))\n",
        "Y_train = np.array(labels_train)\n",
        "\n",
        "X_test = np.array(create_x(measurements_test))\n",
        "Y_test = np.array(labels_test)\n",
        "\n",
        "print(f\"Shape of the Training: \\n X: {X_train.shape}\")"
      ],
      "execution_count": 5,
      "outputs": [
        {
          "output_type": "stream",
          "text": [
            "Shape of the Training: \n",
            " X: (5000, 15)\n"
          ],
          "name": "stdout"
        }
      ]
    },
    {
      "cell_type": "markdown",
      "metadata": {
        "id": "779vLn76r_nf",
        "colab_type": "text"
      },
      "source": [
        "# Models"
      ]
    },
    {
      "cell_type": "markdown",
      "metadata": {
        "id": "3IVtWPnEwuIc",
        "colab_type": "text"
      },
      "source": [
        "## VAE With Linear output and MSE loss function"
      ]
    },
    {
      "cell_type": "markdown",
      "metadata": {
        "id": "2WgcCL67wGMC",
        "colab_type": "text"
      },
      "source": [
        "### Choosing Running Folder"
      ]
    },
    {
      "cell_type": "code",
      "metadata": {
        "id": "ChkpHYIWsfNO",
        "colab_type": "code",
        "colab": {}
      },
      "source": [
        "import os\n",
        "# run params\n",
        "SECTION = 'bvae'\n",
        "RUN_ID = '0001'\n",
        "DATA_NAME = 'Entanglement'\n",
        "RUN_FOLDER = 'run/{}/'.format(SECTION)\n",
        "RUN_FOLDER += '_'.join([RUN_ID, DATA_NAME])\n",
        "\n",
        "if not os.path.exists(RUN_FOLDER):\n",
        "    os.makedirs(RUN_FOLDER)\n",
        "    os.mkdir(os.path.join(RUN_FOLDER, 'viz'))\n",
        "    os.mkdir(os.path.join(RUN_FOLDER, 'images'))\n",
        "    os.mkdir(os.path.join(RUN_FOLDER, 'weights'))"
      ],
      "execution_count": 0,
      "outputs": []
    },
    {
      "cell_type": "markdown",
      "metadata": {
        "id": "yQnAOiHUwIoj",
        "colab_type": "text"
      },
      "source": [
        "### Defining the model"
      ]
    },
    {
      "cell_type": "code",
      "metadata": {
        "id": "BMucpk89pXZu",
        "colab_type": "code",
        "colab": {}
      },
      "source": [
        "from Models.VAE_Keras import DenseVariationalAutoencoderKeras\n",
        "\n",
        "#Parameters\n",
        "input_dimension = (X_train.shape[1],)\n",
        "encoder_dense = [512,256,128,52]\n",
        "decoder_dense = [52,128,256, 512, X_train.shape[1]]\n",
        "batch_norm = False\n",
        "dropout = True\n",
        "ZDIM = 5\n",
        "\n",
        "#Defining the Beta-VAE\n",
        "bvae = DenseVariationalAutoencoderKeras(input_dim = input_dimension\n",
        "                                        , encoder_dense_units = encoder_dense\n",
        "                                        , decoder_dense_units = decoder_dense\n",
        "                                        , z_dim = ZDIM\n",
        "                                        , use_batch_norm = batch_norm\n",
        "                                        , use_dropout= dropout\n",
        "                                        )\n",
        "\n",
        "z_mu_b = bvae.encoder.predict(X_test)"
      ],
      "execution_count": 0,
      "outputs": []
    },
    {
      "cell_type": "markdown",
      "metadata": {
        "id": "gJKlArfTwL4W",
        "colab_type": "text"
      },
      "source": [
        "### Training the model"
      ]
    },
    {
      "cell_type": "code",
      "metadata": {
        "id": "Eg0a5u5msZtg",
        "colab_type": "code",
        "colab": {}
      },
      "source": [
        "#Compile Parameters (These parameters depend on a fine tuning) \n",
        "LEARNING_RATE = 0.0005\n",
        "R_LOSS_FACTOR = 500\n",
        "BETA = 1\n",
        "bvae.compile(LEARNING_RATE, R_LOSS_FACTOR, BETA)\n",
        "\n",
        "#Callbacks \n",
        "from keras.callbacks import ReduceLROnPlateau, EarlyStopping\n",
        "reduce_LR = ReduceLROnPlateau(monitor='val_loss', \n",
        "                              factor=0.1, \n",
        "                              patience=5, \n",
        "                              verbose=1, \n",
        "                              mode='auto', \n",
        "                              min_delta=0.0001, \n",
        "                              cooldown=0, min_lr=0)\n",
        "\n",
        "\n",
        "callbacks = [reduce_LR]\n",
        "\n",
        "# Training Parameters\n",
        "BATCH_SIZE = 256\n",
        "EPOCHS = 100\n",
        "PRINT_EVERY_N_BATCHES = 100\n",
        "INITIAL_EPOCH = 0\n",
        "\n",
        "history = bvae.train( x_train = X_train\n",
        "                    , y_train = X_train\n",
        "                    , batch_size = BATCH_SIZE\n",
        "                    , validation_data = (X_test, X_test)\n",
        "                    , epochs = EPOCHS\n",
        "                    , run_folder = RUN_FOLDER\n",
        "                    , print_every_n_batches = PRINT_EVERY_N_BATCHES\n",
        "                    , initial_epoch = INITIAL_EPOCH                    \n",
        "                    , callbacks = callbacks\n",
        "                    )"
      ],
      "execution_count": 0,
      "outputs": []
    },
    {
      "cell_type": "code",
      "metadata": {
        "id": "L715EMPE3B51",
        "colab_type": "code",
        "outputId": "d87fba35-76c9-4d81-a611-0e6ce53d885e",
        "colab": {
          "base_uri": "https://localhost:8080/",
          "height": 338
        }
      },
      "source": [
        "loss = history.history['loss']\n",
        "val_loss = history.history['val_loss']\n",
        "\n",
        "#Epochs\n",
        "epochs = np.arange(INITIAL_EPOCH, EPOCHS, 1)\n",
        "\n",
        "fig = plt.figure(figsize=(8,5))\n",
        "gs = fig.add_gridspec(1, 1)\n",
        "ax1 = fig.add_subplot(gs[0, 0])\n",
        "\n",
        "ax1.plot(epochs, loss, 'r', label='Training')\n",
        "ax1.plot(epochs, val_loss, 'b', label='Validation')\n",
        "ax1.set_xlabel('Epochs', size=16)\n",
        "ax1.set_ylabel('Loss', size=16)\n",
        "ax1.set_yscale('log')\n",
        "ax1.legend()\n",
        "plt.show()"
      ],
      "execution_count": 0,
      "outputs": [
        {
          "output_type": "display_data",
          "data": {
            "image/png": "[encoded data removed]",
            "text/plain": [
              "<Figure size 576x360 with 1 Axes>"
            ]
          },
          "metadata": {
            "tags": [],
            "needs_background": "light"
          }
        }
      ]
    },
    {
      "cell_type": "markdown",
      "metadata": {
        "id": "z8AhYYEXwO4m",
        "colab_type": "text"
      },
      "source": [
        "### Reconstruction plot"
      ]
    },
    {
      "cell_type": "code",
      "metadata": {
        "id": "eJmm3af5s-J8",
        "colab_type": "code",
        "outputId": "c87e9d5f-8625-4f2f-fc18-9a7a751e3df2",
        "colab": {
          "base_uri": "https://localhost:8080/",
          "height": 866
        }
      },
      "source": [
        "n_to_show = 5\n",
        "example_idx = np.random.choice(range(len(X_test)), n_to_show)\n",
        "example_images = X_test[example_idx]\n",
        "\n",
        "z_points = bvae.encoder.predict(example_images)\n",
        "\n",
        "reconst_images = bvae.decoder.predict(z_points)\n",
        "\n",
        "plt.figure(figsize=(8, 12))\n",
        "for i in range(n_to_show):\n",
        "\n",
        "    plt.subplot(5, 2, 2*i + 1)    \n",
        "    plt.imshow(example_images[i].reshape(3, 5), cmap=\"gray\")\n",
        "    plt.title(\"Test input\")\n",
        "    plt.colorbar()\n",
        "    plt.subplot(5, 2, 2*i + 2)\n",
        "    plt.imshow(reconst_images[i].reshape(3, 5), cmap=\"gray\")\n",
        "    plt.title(\"Reconstruction\")\n",
        "    plt.colorbar()\n",
        "    \n",
        "plt.tight_layout()"
      ],
      "execution_count": 0,
      "outputs": [
        {
          "output_type": "display_data",
          "data": {
            "image/png": "[encoded data removed]",
            "text/plain": [
              "<Figure size 576x864 with 20 Axes>"
            ]
          },
          "metadata": {
            "tags": [],
            "needs_background": "light"
          }
        }
      ]
    },
    {
      "cell_type": "markdown",
      "metadata": {
        "id": "46tzC7I695H7",
        "colab_type": "text"
      },
      "source": [
        "## Using Trace distance as a loss function"
      ]
    },
    {
      "cell_type": "markdown",
      "metadata": {
        "id": "x6Kx7VuBSRxh",
        "colab_type": "text"
      },
      "source": [
        "### Building the model"
      ]
    },
    {
      "cell_type": "markdown",
      "metadata": {
        "id": "L9_QAbnVfNgs",
        "colab_type": "text"
      },
      "source": [
        "#### Model from chollet's"
      ]
    },
    {
      "cell_type": "code",
      "metadata": {
        "id": "Jqapg5bJX6Cn",
        "colab_type": "code",
        "colab": {}
      },
      "source": [
        "#Helper functions from mitdeeplearning\n",
        "import time\n",
        "from IPython import display as ipythondisplay\n",
        "from string import Formatter\n",
        "\n",
        "class PeriodicPlotter:\n",
        "  def __init__(self, sec, xlabel='', ylabel='', scale=None):\n",
        "    self.xlabel = xlabel\n",
        "    self.ylabel = ylabel\n",
        "    self.sec = sec\n",
        "    self.scale = scale\n",
        "    self.tic = time.time()\n",
        "\n",
        "  def plot(self, data):\n",
        "    if time.time() - self.tic > self.sec:\n",
        "      plt.cla()\n",
        "\n",
        "      if self.scale is None:\n",
        "        plt.plot(data)\n",
        "      elif self.scale == 'semilogx':\n",
        "        plt.semilogx(data)\n",
        "      elif self.scale == 'semilogy':\n",
        "        plt.semilogy(data)\n",
        "      elif self.scale == 'loglog':\n",
        "        plt.loglog(data)\n",
        "      else:\n",
        "        raise ValueError(\"unrecognized parameter scale {}\".format(self.scale))\n",
        "\n",
        "      plt.xlabel(self.xlabel); plt.ylabel(self.ylabel)\n",
        "      ipythondisplay.clear_output(wait=True)\n",
        "      ipythondisplay.display(plt.gcf())\n",
        "\n",
        "      self.tic = time.time()"
      ],
      "execution_count": 0,
      "outputs": []
    },
    {
      "cell_type": "code",
      "metadata": {
        "id": "KMor3_c4e6Sm",
        "colab_type": "code",
        "colab": {}
      },
      "source": [
        "from itertools import product\n",
        "\n",
        "def tf_kron(a: tf.Tensor,\n",
        "            b: tf.Tensor) -> tf.Tensor:\n",
        "\n",
        "  \"\"\"Calculates the Kronocker product of two matrices ((2,2) Tensors).\n",
        "\n",
        "  Parameters\n",
        "  -----------------------------------------------------------------------\n",
        "  a(tf.Tensor): Tensor on the left of the product.\n",
        "  b(tf.Tensor): Tensor on the right of the product.\n",
        "\n",
        "  Return\n",
        "  -----------------------------------------------------------------------\n",
        "  (tf.tensor): Kronocker product between a and b.\n",
        "\n",
        "  \"\"\"\n",
        "  assert len(a.shape) == 2\n",
        "  assert len(b.shape) == 2\n",
        "  a_shape = list(b.shape)    \n",
        "  b_shape = list(b.shape)\n",
        "  return tf.reshape(tf.reshape(a,[a_shape[0],1,a_shape[1],1])*tf.reshape(b,[1,b_shape[0],1,b_shape[1]]),[a_shape[0]*b_shape[0],a_shape[1]*b_shape[1]])\n",
        "\n",
        "\n",
        "#Creating pauli matrices\n",
        "sigma_0_np = np.array([[1.,0.],\n",
        "                      [0.,1.]], dtype=np.complex64)\n",
        "\n",
        "sigma_1_np = np.array([[0.,1.],\n",
        "                       [1.,0.]], dtype=np.complex64)\n",
        "\n",
        "sigma_2_np = np.array([[0.,1.j],\n",
        "                       [-1.j,0.]], dtype=np.complex64)\n",
        "\n",
        "sigma_3_np = np.array([[1.,0.],\n",
        "                       [0.,-1.]], dtype=np.complex64)\n",
        "\n",
        "#Converting to tensors\n",
        "sigma_0 = tf.Variable(sigma_0_np, tf.complex64)\n",
        "\n",
        "sigma_1 = tf.Variable(sigma_1_np, tf.complex64)\n",
        "\n",
        "sigma_2 = tf.Variable(sigma_2_np, tf.complex64)\n",
        "\n",
        "sigma_3 = tf.Variable(sigma_3_np, dtype=tf.complex64)\n",
        "\n",
        "def create_2qubit_density_mat(measurements: tf.Variable) -> tf.Variable:\n",
        "  \n",
        "  name_basis_1 = ['I', 'X', 'Y', 'Z']\n",
        "  basis_1 = [sigma_0, sigma_1,sigma_2,sigma_3]\n",
        "  name_basis_2 = []\n",
        "  basis_2 = []\n",
        "  for (name_1, meas_1),(name_2,meas_2) in product(zip(name_basis_1, basis_1),zip(name_basis_1, basis_1)):\n",
        "    if name_1 == 'I' and name_2 == 'I':\n",
        "      pass\n",
        "    else:\n",
        "      basis_2.append(tf_kron(meas_1,meas_2))\n",
        "      name_basis_2.append(name_1 + name_2)\n",
        "  \n",
        "  basis_2_tf = tf.Variable(basis_2, name='Basis')\n",
        "  \n",
        "  # Helper to make tr(density_matrix) = 1\n",
        "  \n",
        "  ones_II = tf.ones((tf.shape(measurements)[0],1), dtype=tf.dtypes.complex64)  \n",
        "  II = tf.Variable([tf_kron(sigma_0 , sigma_0)], name='II')\n",
        "  \n",
        "  density_matrix = 0.25*(tf.tensordot(ones_II , II ,axes=1) + tf.tensordot(measurements,basis_2_tf,axes=1))\n",
        "  return density_matrix\n",
        "\n",
        "def trace_dist(A,B):\n",
        "  dif = tf.math.subtract(A,B)  \n",
        "  dif = tf.transpose(dif, conjugate=True, perm=[0,2,1]) * dif  \n",
        "  vals = tf.linalg.eigvalsh(dif)\n",
        "  return tf.math.real(0.5*tf.reduce_sum(tf.math.sqrt(tf.math.abs(vals)),axis=-1))\n",
        "\n",
        "def trace_loss(y_true,y_pred):\n",
        "  y_true = tf.cast(y_true, tf.dtypes.complex64, name='Casting_true')\n",
        "  y_pred = tf.cast(y_pred, tf.dtypes.complex64, name='Casting_pred')\n",
        "  d_y_true = create_2qubit_density_mat(y_true)  \n",
        "  d_y_pred = create_2qubit_density_mat(y_pred)    \n",
        "  return tf.reduce_mean(trace_dist(d_y_pred,d_y_true))"
      ],
      "execution_count": 0,
      "outputs": []
    },
    {
      "cell_type": "code",
      "metadata": {
        "id": "vtQInJ6zk2RD",
        "colab_type": "code",
        "colab": {}
      },
      "source": [
        "from tensorflow.keras import layers\n",
        "\n",
        "class Sampling(layers.Layer):\n",
        "  \"\"\"Uses (z_mean, z_log_var) to sample z, the vector encoding a digit.\"\"\"\n",
        "\n",
        "  def call(self, inputs):\n",
        "    z_mean, z_log_var = inputs\n",
        "    batch = tf.shape(z_mean)[0]\n",
        "    dim = tf.shape(z_mean)[1]\n",
        "    epsilon = tf.keras.backend.random_normal(shape=(batch, dim))\n",
        "    return z_mean + tf.exp(0.5 * z_log_var) * epsilon\n",
        "\n",
        "\n",
        "class Encoder(layers.Layer):\n",
        "  \"\"\"Maps Input to a triplet (z_mean, z_log_var, z).\"\"\"\n",
        "\n",
        "  def __init__(self,\n",
        "               latent_dim=32,\n",
        "               intermediate_dim=64,\n",
        "               dtype='float64',\n",
        "               **kwargs):\n",
        "    \n",
        "    super(Encoder, self).__init__(**kwargs)\n",
        "    self.dense_proj = []\n",
        "    for i in intermediate_dim:\n",
        "      self.dense_proj.append(layers.Dense(i,\n",
        "                                          activation=tf.nn.relu))\n",
        "    \n",
        "    #self.dense_proj = layers.Dense(intermediate_dim, activation=tf.nn.relu)\n",
        "\n",
        "    self.dense_mean = layers.Dense(latent_dim)\n",
        "    self.dense_log_var = layers.Dense(latent_dim)\n",
        "    self.sampling = Sampling()\n",
        "\n",
        "  def call(self, inputs):\n",
        "    x = self.dense_proj[0](inputs)\n",
        "    \n",
        "    for lay in self.dense_proj[1:]:\n",
        "      x = lay(x)\n",
        "    \n",
        "    z_mean = self.dense_mean(x)\n",
        "    z_log_var = self.dense_log_var(x)\n",
        "    z = self.sampling((z_mean, z_log_var))\n",
        "    return z_mean, z_log_var, z\n",
        "\n",
        "class Decoder(layers.Layer):\n",
        "  \"\"\"Converts z, the encoded digit vector, back into a readable digit.\"\"\"\n",
        "\n",
        "  def __init__(self,\n",
        "               original_dim,\n",
        "               intermediate_dim=64,               \n",
        "               **kwargs):\n",
        "    super(Decoder, self).__init__(**kwargs)\n",
        "\n",
        "    self.dense_proj = []\n",
        "    for i in intermediate_dim:\n",
        "      self.dense_proj.append(layers.Dense(i,\n",
        "                                          activation=tf.nn.relu))\n",
        "\n",
        "    #self.dense_proj = layers.Dense(intermediate_dim, activation=tf.nn.relu)\n",
        "    self.dense_output = layers.Dense(original_dim)\n",
        "\n",
        "  def call(self, inputs):\n",
        "    x = self.dense_proj[0](inputs)\n",
        "    \n",
        "    for lay in self.dense_proj[1:]:\n",
        "      x = lay(x)\n",
        "\n",
        "    return self.dense_output(x)"
      ],
      "execution_count": 0,
      "outputs": []
    },
    {
      "cell_type": "code",
      "metadata": {
        "id": "chkxmU9MltMs",
        "colab_type": "code",
        "colab": {}
      },
      "source": [
        "class VariationalAutoEncoder(tf.keras.Model):\n",
        "  \"\"\"Combines the encoder and decoder into an end-to-end model for training.\"\"\"\n",
        "\n",
        "  def __init__(self,\n",
        "               original_dim,\n",
        "               intermediate_dim=64,\n",
        "               latent_dim=32,\n",
        "               **kwargs):\n",
        "    \n",
        "    super(VariationalAutoEncoder, self).__init__(**kwargs)\n",
        "    self.original_dim = original_dim\n",
        "    self.encoder = Encoder(latent_dim=latent_dim,\n",
        "                           intermediate_dim=intermediate_dim)\n",
        "    self.decoder = Decoder(original_dim, \n",
        "                           intermediate_dim=intermediate_dim)\n",
        "\n",
        "  def call(self, inputs):\n",
        "    z_mean, z_log_var, z = self.encoder(inputs)\n",
        "    reconstructed = self.decoder(z)\n",
        "    # Add KL divergence regularization loss.\n",
        "    kl_loss = - 0.5 * tf.reduce_mean(\n",
        "        z_log_var - tf.square(z_mean) - tf.exp(z_log_var) + 1)    \n",
        "    self.add_loss(kl_loss)\n",
        "    return reconstructed"
      ],
      "execution_count": 0,
      "outputs": []
    },
    {
      "cell_type": "code",
      "metadata": {
        "id": "_Aff3MTxlvVQ",
        "colab_type": "code",
        "colab": {}
      },
      "source": [
        "@tf.function\n",
        "def training_step(x, optimizer, r_loss, beta):\n",
        "    with tf.GradientTape() as tape:\n",
        "        reconstructed = vae(x)  # Compute input reconstruction.\n",
        "        # Compute loss.\n",
        "        loss = trace_loss(x, reconstructed)\n",
        "        kl = sum(vae.losses)\n",
        "        loss = r_loss * loss + beta*kl  \n",
        "    # Update the weights of the VAE.\n",
        "    grads = tape.gradient(loss, vae.trainable_weights)\n",
        "    optimizer.apply_gradients(zip(grads, vae.trainable_weights))\n",
        "    return loss\n",
        "\n",
        "def training(dataset, optimizer, epochs, r_loss, beta, Plotter=None):\n",
        "  \"\"\" Training of the Variational Autoencoder for a \n",
        "  tensorflow.dataset.\n",
        "\n",
        "  Parameters\n",
        "  -------------------------------------------\n",
        "\n",
        "  dataset(tf.data.Dataset): Dataset of the data.\n",
        "  epochs(int): Number of epochs.\n",
        "  r_loss(float): Parameter controlling reconstruction loss.\n",
        "  beta(float): Parameter controlling the KL divergence.\n",
        "\n",
        "  \"\"\"\n",
        "\n",
        "  losses = []\n",
        "  epochs = range(epochs)\n",
        "\n",
        "  for i in tqdm_notebook(epochs, desc='Epochs'):\n",
        "    losses_epochs = []\n",
        "    for step, x in enumerate(dataset):\n",
        "\n",
        "      loss = training_step(x, optimizer, r_loss, beta)\n",
        "  \n",
        "      # Logging.\n",
        "      losses_epochs.append(float(loss))\n",
        "    losses.append(np.mean(losses_epochs))\n",
        "    \n",
        "    if Plotter != None:\n",
        "      Plotter.plot(losses)\n",
        "\n",
        "  return losses  "
      ],
      "execution_count": 0,
      "outputs": []
    },
    {
      "cell_type": "code",
      "metadata": {
        "id": "-V6Jjo0U_SZO",
        "colab_type": "code",
        "colab": {}
      },
      "source": [
        "ZDIM = 2\n",
        "input_dim = X_train.shape[1]\n",
        "hidden_dims = [64,128]\n",
        "batchsize = 32\n",
        "\n",
        "vae = VariationalAutoEncoder(original_dim=input_dim,\n",
        "                             intermediate_dim=hidden_dims,\n",
        "                             latent_dim=ZDIM)\n",
        "\n",
        "# Optimizer.\n",
        "optimizer = tf.keras.optimizers.Adam(learning_rate=1e-3)\n",
        "\n",
        "# Prepare a dataset.\n",
        "dataset = tf.data.Dataset.from_tensor_slices(X_train)\n",
        "dataset = dataset.shuffle(buffer_size=1024).batch(batchsize)"
      ],
      "execution_count": 0,
      "outputs": []
    },
    {
      "cell_type": "code",
      "metadata": {
        "id": "4yxYFEC-s1pX",
        "colab_type": "code",
        "colab": {
          "base_uri": "https://localhost:8080/",
          "height": 558,
          "referenced_widgets": [
            "2611a84d5f534eccbd67f62f427a8642",
            "b3a429fc4b484cf8a622eb679fedf479",
            "4a1857c0a27d4c48945e102badeef4b2",
            "f6cf9c11cfae4e34a4368c72cdd0ba44",
            "56648019e3a74c47b849bbe0c122106a",
            "19a0f815f28f4d93a04358c8ea4aab14",
            "35986ac809c849aeaf2460638a9bfd3b",
            "2da5e499a9df47718702802e96f5fa41"
          ]
        },
        "outputId": "fafbf403-2cb6-4abf-bb1b-fd7e53eee5cb"
      },
      "source": [
        "r_loss = 10.\n",
        "beta = 1e-3\n",
        "epochs = 20\n",
        "\n",
        "# Periodic Plotter for loss\n",
        "plotter = PeriodicPlotter(sec=2, xlabel='Epochs', ylabel='Loss')\n",
        "\n",
        "# Optimizer.\n",
        "optimizer = tf.keras.optimizers.Adam(learning_rate=1e-3)\n",
        "\n",
        "loss_epochs = training(dataset, optimizer, epochs, r_loss, beta, Plotter=plotter)"
      ],
      "execution_count": 51,
      "outputs": [
        {
          "output_type": "display_data",
          "data": {
            "image/png": "[encoded data removed]",
            "text/plain": [
              "<Figure size 432x288 with 1 Axes>"
            ]
          },
          "metadata": {
            "tags": []
          }
        },
        {
          "output_type": "stream",
          "text": [
            "\n"
          ],
          "name": "stdout"
        },
        {
          "output_type": "display_data",
          "data": {
            "image/png": "[encoded data removed]",
            "text/plain": [
              "<Figure size 432x288 with 1 Axes>"
            ]
          },
          "metadata": {
            "tags": [],
            "needs_background": "light"
          }
        }
      ]
    },
    {
      "cell_type": "code",
      "metadata": {
        "id": "EJuxEm_3xyMt",
        "colab_type": "code",
        "colab": {
          "base_uri": "https://localhost:8080/",
          "height": 338
        },
        "outputId": "9af76169-ac72-4acb-9d8b-6447dcfe0150"
      },
      "source": [
        "fig = plt.figure(figsize=(14,5))\n",
        "gs = fig.add_gridspec(1, 2)\n",
        "ax1 = fig.add_subplot(gs[0, 0])\n",
        "ax2 = fig.add_subplot(gs[0, 1])\n",
        "\n",
        "\n",
        "ax1.imshow((X_train[0:20]), cmap=\"gray\")\n",
        "ax1.set_title('Original', size=16)\n",
        "\n",
        "ax2.imshow(vae.predict(X_train[0:20]), cmap=\"gray\")\n",
        "ax2.set_title('Reconstruction', size=16)\n",
        "\n",
        "\n",
        "plt.show()"
      ],
      "execution_count": 52,
      "outputs": [
        {
          "output_type": "display_data",
          "data": {
            "image/png": "[encoded data removed]",
            "text/plain": [
              "<Figure size 1008x360 with 2 Axes>"
            ]
          },
          "metadata": {
            "tags": [],
            "needs_background": "light"
          }
        }
      ]
    },
    {
      "cell_type": "code",
      "metadata": {
        "id": "ObVX78eQyldc",
        "colab_type": "code",
        "colab": {}
      },
      "source": [
        ""
      ],
      "execution_count": 0,
      "outputs": []
    }
  ]
}