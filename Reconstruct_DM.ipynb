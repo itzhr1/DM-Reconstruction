{
  "nbformat": 4,
  "nbformat_minor": 0,
  "metadata": {
    "colab": {
      "name": "Reconstruct DM.ipynb",
      "provenance": [],
      "collapsed_sections": [],
      "include_colab_link": true
    },
    "kernelspec": {
      "name": "python3",
      "display_name": "Python 3"
    },
    "widgets": {
      "application/vnd.jupyter.widget-state+json": {
        "2cfa0d2c2fd14dba9af1cb95c0951b89": {
          "model_module": "@jupyter-widgets/controls",
          "model_name": "HBoxModel",
          "state": {
            "_view_name": "HBoxView",
            "_dom_classes": [],
            "_model_name": "HBoxModel",
            "_view_module": "@jupyter-widgets/controls",
            "_model_module_version": "1.5.0",
            "_view_count": null,
            "_view_module_version": "1.5.0",
            "box_style": "",
            "layout": "IPY_MODEL_a38f858542934518a8485fa7836db397",
            "_model_module": "@jupyter-widgets/controls",
            "children": [
              "IPY_MODEL_d9f620d97cd54f83a7929cb2f45b1748",
              "IPY_MODEL_5e17cca142514bb7a251ed0015725d35"
            ]
          }
        },
        "a38f858542934518a8485fa7836db397": {
          "model_module": "@jupyter-widgets/base",
          "model_name": "LayoutModel",
          "state": {
            "_view_name": "LayoutView",
            "grid_template_rows": null,
            "right": null,
            "justify_content": null,
            "_view_module": "@jupyter-widgets/base",
            "overflow": null,
            "_model_module_version": "1.2.0",
            "_view_count": null,
            "flex_flow": null,
            "width": null,
            "min_width": null,
            "border": null,
            "align_items": null,
            "bottom": null,
            "_model_module": "@jupyter-widgets/base",
            "top": null,
            "grid_column": null,
            "overflow_y": null,
            "overflow_x": null,
            "grid_auto_flow": null,
            "grid_area": null,
            "grid_template_columns": null,
            "flex": null,
            "_model_name": "LayoutModel",
            "justify_items": null,
            "grid_row": null,
            "max_height": null,
            "align_content": null,
            "visibility": null,
            "align_self": null,
            "height": null,
            "min_height": null,
            "padding": null,
            "grid_auto_rows": null,
            "grid_gap": null,
            "max_width": null,
            "order": null,
            "_view_module_version": "1.2.0",
            "grid_template_areas": null,
            "object_position": null,
            "object_fit": null,
            "grid_auto_columns": null,
            "margin": null,
            "display": null,
            "left": null
          }
        },
        "d9f620d97cd54f83a7929cb2f45b1748": {
          "model_module": "@jupyter-widgets/controls",
          "model_name": "IntProgressModel",
          "state": {
            "_view_name": "ProgressView",
            "style": "IPY_MODEL_428ac94f6da54f25800a0022d0764c18",
            "_dom_classes": [],
            "description": "Epochs: 100%",
            "_model_name": "IntProgressModel",
            "bar_style": "success",
            "max": 20,
            "_view_module": "@jupyter-widgets/controls",
            "_model_module_version": "1.5.0",
            "value": 20,
            "_view_count": null,
            "_view_module_version": "1.5.0",
            "orientation": "horizontal",
            "min": 0,
            "description_tooltip": null,
            "_model_module": "@jupyter-widgets/controls",
            "layout": "IPY_MODEL_fa3a902878904789afb86b17086cc042"
          }
        },
        "5e17cca142514bb7a251ed0015725d35": {
          "model_module": "@jupyter-widgets/controls",
          "model_name": "HTMLModel",
          "state": {
            "_view_name": "HTMLView",
            "style": "IPY_MODEL_a41cba59061e4710a94aa251032b3424",
            "_dom_classes": [],
            "description": "",
            "_model_name": "HTMLModel",
            "placeholder": "​",
            "_view_module": "@jupyter-widgets/controls",
            "_model_module_version": "1.5.0",
            "value": " 20/20 [10:22&lt;00:00, 31.15s/it]",
            "_view_count": null,
            "_view_module_version": "1.5.0",
            "description_tooltip": null,
            "_model_module": "@jupyter-widgets/controls",
            "layout": "IPY_MODEL_6903f747448c46609ee35c47d1873daf"
          }
        },
        "428ac94f6da54f25800a0022d0764c18": {
          "model_module": "@jupyter-widgets/controls",
          "model_name": "ProgressStyleModel",
          "state": {
            "_view_name": "StyleView",
            "_model_name": "ProgressStyleModel",
            "description_width": "initial",
            "_view_module": "@jupyter-widgets/base",
            "_model_module_version": "1.5.0",
            "_view_count": null,
            "_view_module_version": "1.2.0",
            "bar_color": null,
            "_model_module": "@jupyter-widgets/controls"
          }
        },
        "fa3a902878904789afb86b17086cc042": {
          "model_module": "@jupyter-widgets/base",
          "model_name": "LayoutModel",
          "state": {
            "_view_name": "LayoutView",
            "grid_template_rows": null,
            "right": null,
            "justify_content": null,
            "_view_module": "@jupyter-widgets/base",
            "overflow": null,
            "_model_module_version": "1.2.0",
            "_view_count": null,
            "flex_flow": null,
            "width": null,
            "min_width": null,
            "border": null,
            "align_items": null,
            "bottom": null,
            "_model_module": "@jupyter-widgets/base",
            "top": null,
            "grid_column": null,
            "overflow_y": null,
            "overflow_x": null,
            "grid_auto_flow": null,
            "grid_area": null,
            "grid_template_columns": null,
            "flex": null,
            "_model_name": "LayoutModel",
            "justify_items": null,
            "grid_row": null,
            "max_height": null,
            "align_content": null,
            "visibility": null,
            "align_self": null,
            "height": null,
            "min_height": null,
            "padding": null,
            "grid_auto_rows": null,
            "grid_gap": null,
            "max_width": null,
            "order": null,
            "_view_module_version": "1.2.0",
            "grid_template_areas": null,
            "object_position": null,
            "object_fit": null,
            "grid_auto_columns": null,
            "margin": null,
            "display": null,
            "left": null
          }
        },
        "a41cba59061e4710a94aa251032b3424": {
          "model_module": "@jupyter-widgets/controls",
          "model_name": "DescriptionStyleModel",
          "state": {
            "_view_name": "StyleView",
            "_model_name": "DescriptionStyleModel",
            "description_width": "",
            "_view_module": "@jupyter-widgets/base",
            "_model_module_version": "1.5.0",
            "_view_count": null,
            "_view_module_version": "1.2.0",
            "_model_module": "@jupyter-widgets/controls"
          }
        },
        "6903f747448c46609ee35c47d1873daf": {
          "model_module": "@jupyter-widgets/base",
          "model_name": "LayoutModel",
          "state": {
            "_view_name": "LayoutView",
            "grid_template_rows": null,
            "right": null,
            "justify_content": null,
            "_view_module": "@jupyter-widgets/base",
            "overflow": null,
            "_model_module_version": "1.2.0",
            "_view_count": null,
            "flex_flow": null,
            "width": null,
            "min_width": null,
            "border": null,
            "align_items": null,
            "bottom": null,
            "_model_module": "@jupyter-widgets/base",
            "top": null,
            "grid_column": null,
            "overflow_y": null,
            "overflow_x": null,
            "grid_auto_flow": null,
            "grid_area": null,
            "grid_template_columns": null,
            "flex": null,
            "_model_name": "LayoutModel",
            "justify_items": null,
            "grid_row": null,
            "max_height": null,
            "align_content": null,
            "visibility": null,
            "align_self": null,
            "height": null,
            "min_height": null,
            "padding": null,
            "grid_auto_rows": null,
            "grid_gap": null,
            "max_width": null,
            "order": null,
            "_view_module_version": "1.2.0",
            "grid_template_areas": null,
            "object_position": null,
            "object_fit": null,
            "grid_auto_columns": null,
            "margin": null,
            "display": null,
            "left": null
          }
        }
      }
    }
  },
  "cells": [
    {
      "cell_type": "markdown",
      "metadata": {
        "id": "view-in-github",
        "colab_type": "text"
      },
      "source": [
        "<a href=\"https://colab.research.google.com/github/itzhr1/DM-Reconstruction/blob/master/Reconstruct_DM.ipynb\" target=\"_parent\"><img src=\"https://colab.research.google.com/assets/colab-badge.svg\" alt=\"Open In Colab\"/></a>"
      ]
    },
    {
      "cell_type": "markdown",
      "metadata": {
        "id": "7iavbKiKltUC",
        "colab_type": "text"
      },
      "source": [
        "# Reconstruction of a density matrix"
      ]
    },
    {
      "cell_type": "markdown",
      "metadata": {
        "id": "IyyOmdrhl0M6",
        "colab_type": "text"
      },
      "source": [
        "### Import dependencies for Google Colab"
      ]
    },
    {
      "cell_type": "code",
      "metadata": {
        "id": "or1p7TPNljDn",
        "colab_type": "code",
        "outputId": "7804822c-dee5-4df6-d661-6b50e450a69d",
        "colab": {
          "base_uri": "https://localhost:8080/",
          "height": 119
        }
      },
      "source": [
        "! git clone https://github.com/itzhr1/DM-Reconstruction"
      ],
      "execution_count": 1,
      "outputs": [
        {
          "output_type": "stream",
          "text": [
            "Cloning into 'DM-Reconstruction'...\n",
            "remote: Enumerating objects: 89, done.\u001b[K\n",
            "remote: Counting objects: 100% (89/89), done.\u001b[K\n",
            "remote: Compressing objects: 100% (82/82), done.\u001b[K\n",
            "remote: Total 89 (delta 41), reused 15 (delta 2), pack-reused 0\u001b[K\n",
            "Unpacking objects: 100% (89/89), done.\n"
          ],
          "name": "stdout"
        }
      ]
    },
    {
      "cell_type": "code",
      "metadata": {
        "id": "X2mpd0AWmLyu",
        "colab_type": "code",
        "outputId": "76dbb9af-e3c7-4799-f829-7f00619a02a6",
        "colab": {
          "base_uri": "https://localhost:8080/",
          "height": 258
        }
      },
      "source": [
        "!pip install qutip"
      ],
      "execution_count": 2,
      "outputs": [
        {
          "output_type": "stream",
          "text": [
            "Collecting qutip\n",
            "\u001b[?25l  Downloading https://files.pythonhosted.org/packages/4f/36/90681586849b4b87b63e4b12353d615628887f0cfe02a218f6b128d3a701/qutip-4.5.0.tar.gz (3.5MB)\n",
            "\u001b[K     |████████████████████████████████| 3.5MB 4.8MB/s \n",
            "\u001b[?25hRequirement already satisfied: numpy>=1.12 in /usr/local/lib/python3.6/dist-packages (from qutip) (1.18.3)\n",
            "Requirement already satisfied: scipy>=1.0 in /usr/local/lib/python3.6/dist-packages (from qutip) (1.4.1)\n",
            "Requirement already satisfied: cython>=0.21 in /usr/local/lib/python3.6/dist-packages (from qutip) (0.29.16)\n",
            "Building wheels for collected packages: qutip\n",
            "  Building wheel for qutip (setup.py) ... \u001b[?25l\u001b[?25hdone\n",
            "  Created wheel for qutip: filename=qutip-4.5.0-cp36-cp36m-linux_x86_64.whl size=12885020 sha256=ca794798f82ee14f8c2951e825091015eb55fd2771605a3b57f4e5e072f961d8\n",
            "  Stored in directory: /root/.cache/pip/wheels/c9/85/e8/3fbad9a0816141b4c5f1d73d8a880ed91265fea84192cbe37b\n",
            "Successfully built qutip\n",
            "Installing collected packages: qutip\n",
            "Successfully installed qutip-4.5.0\n"
          ],
          "name": "stdout"
        }
      ]
    },
    {
      "cell_type": "code",
      "metadata": {
        "id": "krooM51-ls4K",
        "colab_type": "code",
        "outputId": "d9ad0d4e-c135-46c3-a7bd-32812f44ea65",
        "colab": {
          "base_uri": "https://localhost:8080/",
          "height": 34
        }
      },
      "source": [
        "% cd DM-Reconstruction/"
      ],
      "execution_count": 3,
      "outputs": [
        {
          "output_type": "stream",
          "text": [
            "/content/DM-Reconstruction\n"
          ],
          "name": "stdout"
        }
      ]
    },
    {
      "cell_type": "markdown",
      "metadata": {
        "id": "51n6qyGel7Cu",
        "colab_type": "text"
      },
      "source": [
        "##Import Dependencies"
      ]
    },
    {
      "cell_type": "code",
      "metadata": {
        "id": "s6XbBlzomUE1",
        "colab_type": "code",
        "colab": {}
      },
      "source": [
        "try:\n",
        "  %tensorflow_version 2.x\n",
        "\n",
        "except Exception:\n",
        "  pass\n",
        "  \n",
        "import tensorflow as tf\n",
        "\n",
        "#Set Random Seed for reproduction\n",
        "tf.random.set_seed(1234)\n",
        "\n",
        "# Remove warnings\n",
        "import logging\n",
        "logging.getLogger('tensorflow').disabled = True\n",
        "\n",
        "#Use this to not need to initialize tensors outside session\n",
        "tf.config.experimental_run_functions_eagerly(True)"
      ],
      "execution_count": 0,
      "outputs": []
    },
    {
      "cell_type": "code",
      "metadata": {
        "id": "BeM7wtQQxEJb",
        "colab_type": "code",
        "colab": {}
      },
      "source": [
        "%load_ext autoreload\n",
        "%autoreload 2"
      ],
      "execution_count": 0,
      "outputs": []
    },
    {
      "cell_type": "code",
      "metadata": {
        "id": "11b8B7JbmhC0",
        "colab_type": "code",
        "colab": {}
      },
      "source": [
        "%matplotlib inline\n",
        "import matplotlib.pyplot as plt\n",
        "import numpy as np\n",
        "import qutip\n",
        "from tqdm.notebook import tqdm"
      ],
      "execution_count": 0,
      "outputs": []
    },
    {
      "cell_type": "markdown",
      "metadata": {
        "id": "mPm1NbddH2kC",
        "colab_type": "text"
      },
      "source": [
        "## Creating dataset"
      ]
    },
    {
      "cell_type": "code",
      "metadata": {
        "id": "V9UD_UPnoqia",
        "colab_type": "code",
        "colab": {}
      },
      "source": [
        "from Utils.Dataset import create_dataset\n",
        "\n",
        "samples_train = 5000\n",
        "states_train, measurements_train, labels_train = create_dataset(samples_train)\n",
        "\n",
        "samples_test = 3000\n",
        "states_test, measurements_test, labels_test = create_dataset(samples_test)"
      ],
      "execution_count": 0,
      "outputs": []
    },
    {
      "cell_type": "code",
      "metadata": {
        "id": "s6dn7Kgxsbq9",
        "colab_type": "code",
        "outputId": "5f735775-dcfb-4362-f62b-1fe3bab39074",
        "colab": {
          "base_uri": "https://localhost:8080/",
          "height": 51
        }
      },
      "source": [
        "from Utils.Dataset import create_x\n",
        "\n",
        "#Transforming in an np.array\n",
        "X_train = np.array(create_x(measurements_train))\n",
        "Y_train = np.array(labels_train)\n",
        "\n",
        "X_test = np.array(create_x(measurements_test))\n",
        "Y_test = np.array(labels_test)\n",
        "\n",
        "print(f\"Shape of the Training: \\n X: {X_train.shape}\")"
      ],
      "execution_count": 8,
      "outputs": [
        {
          "output_type": "stream",
          "text": [
            "Shape of the Training: \n",
            " X: (5000, 15)\n"
          ],
          "name": "stdout"
        }
      ]
    },
    {
      "cell_type": "markdown",
      "metadata": {
        "id": "779vLn76r_nf",
        "colab_type": "text"
      },
      "source": [
        "# Models"
      ]
    },
    {
      "cell_type": "markdown",
      "metadata": {
        "id": "46tzC7I695H7",
        "colab_type": "text"
      },
      "source": [
        "## Using Trace distance as a loss function"
      ]
    },
    {
      "cell_type": "code",
      "metadata": {
        "id": "-V6Jjo0U_SZO",
        "colab_type": "code",
        "colab": {}
      },
      "source": [
        "from Models.TVAE import TraceVAE\n",
        "\n",
        "ZDIM = 9\n",
        "input_dim = X_train.shape[1]\n",
        "hidden_dims = [64,128,256]\n",
        "batchsize = 32\n",
        "\n",
        "vae = TraceVAE(original_dim=input_dim,\n",
        "               intermediate_dim=hidden_dims,\n",
        "               latent_dim=ZDIM)\n",
        "\n",
        "# Optimizer.\n",
        "optimizer = tf.keras.optimizers.Adam(learning_rate=1e-3)\n",
        "\n",
        "vae.compile(optimizer=optimizer)\n",
        "\n",
        "# Prepare a dataset.\n",
        "dataset = tf.data.Dataset.from_tensor_slices(X_train)\n",
        "dataset = dataset.shuffle(buffer_size=1024).batch(batchsize)"
      ],
      "execution_count": 0,
      "outputs": []
    },
    {
      "cell_type": "code",
      "metadata": {
        "id": "KTSxXl85zy2L",
        "colab_type": "code",
        "outputId": "12063ad6-e05f-4f68-94fc-5f10368342bd",
        "colab": {
          "base_uri": "https://localhost:8080/",
          "height": 558,
          "referenced_widgets": [
            "2cfa0d2c2fd14dba9af1cb95c0951b89",
            "a38f858542934518a8485fa7836db397",
            "d9f620d97cd54f83a7929cb2f45b1748",
            "5e17cca142514bb7a251ed0015725d35",
            "428ac94f6da54f25800a0022d0764c18",
            "fa3a902878904789afb86b17086cc042",
            "a41cba59061e4710a94aa251032b3424",
            "6903f747448c46609ee35c47d1873daf"
          ]
        }
      },
      "source": [
        "from Utils.Plotter import PeriodicPlotter\n",
        "\n",
        "r_loss = 10.\n",
        "beta = 1e-2\n",
        "epochs = 20\n",
        "\n",
        "# Periodic Plotter for loss\n",
        "plotter = PeriodicPlotter(sec=5, xlabel='Epochs', ylabel='Loss')\n",
        "\n",
        "loss_epochs = vae.training(dataset, epochs, r_loss, beta, Plotter=plotter)"
      ],
      "execution_count": 10,
      "outputs": [
        {
          "output_type": "display_data",
          "data": {
            "image/png": "[encoded data removed]",
            "text/plain": [
              "<Figure size 432x288 with 1 Axes>"
            ]
          },
          "metadata": {
            "tags": []
          }
        },
        {
          "output_type": "stream",
          "text": [
            "\n"
          ],
          "name": "stdout"
        },
        {
          "output_type": "display_data",
          "data": {
            "image/png": "[encoded data removed]",
            "text/plain": [
              "<Figure size 432x288 with 1 Axes>"
            ]
          },
          "metadata": {
            "tags": [],
            "needs_background": "light"
          }
        }
      ]
    },
    {
      "cell_type": "code",
      "metadata": {
        "id": "EJuxEm_3xyMt",
        "colab_type": "code",
        "outputId": "203cca67-0af4-4d94-8676-61d1cb169803",
        "colab": {
          "base_uri": "https://localhost:8080/",
          "height": 338
        }
      },
      "source": [
        "fig = plt.figure(figsize=(14,5))\n",
        "gs = fig.add_gridspec(1, 4)\n",
        "ax1 = fig.add_subplot(gs[0, 0])\n",
        "ax2 = fig.add_subplot(gs[0, 1])\n",
        "\n",
        "ax1.imshow((X_train[0:20]), cmap=\"gray\")\n",
        "ax1.set_title('Original', size=16)\n",
        "\n",
        "ax2.imshow(vae.predict(X_train[0:20]), cmap=\"gray\")\n",
        "ax2.set_title('Reconstruction', size=16)\n",
        "\n",
        "\n",
        "z_mean, z_log_var, z = vae.encoder(X_test)\n",
        "z = z.numpy()\n",
        "#z[z*z<=.1]=0\n",
        "\n",
        "ax3 = fig.add_subplot(gs[0, 2])\n",
        "ims = ax3.scatter(z[:,0], z[:,1], c=Y_test)\n",
        "ax3.set_title('Latent Space', size=16)\n",
        "#plt.colorbar(ims, ax=ax3)\n",
        "\n",
        "ax4 = fig.add_subplot(gs[0, 3])\n",
        "ims = ax4.scatter(z[:,0]*z[:,0]+z[:,8]*z[:,8], z[:,0]*z[:,0]-z[:,8]*z[:,8], c=Y_test)\n",
        "ax4.set_title('Latent Space', size=16)\n",
        "plt.colorbar(ims, ax=ax4)\n",
        "\n",
        "plt.show()"
      ],
      "execution_count": 56,
      "outputs": [
        {
          "output_type": "display_data",
          "data": {
            "image/png": "[encoded data removed]",
            "text/plain": [
              "<Figure size 1008x360 with 5 Axes>"
            ]
          },
          "metadata": {
            "tags": [],
            "needs_background": "light"
          }
        }
      ]
    },
    {
      "cell_type": "markdown",
      "metadata": {
        "id": "VHLz-RHbytII",
        "colab_type": "text"
      },
      "source": [
        "## Older functions"
      ]
    },
    {
      "cell_type": "code",
      "metadata": {
        "id": "KMor3_c4e6Sm",
        "colab_type": "code",
        "colab": {}
      },
      "source": [
        "from itertools import product\n",
        "\n",
        "def tf_kron(a: tf.Tensor,\n",
        "            b: tf.Tensor) -> tf.Tensor:\n",
        "\n",
        "  \"\"\"Calculates the Kronocker product of two matrices ((2,2) Tensors).\n",
        "\n",
        "  Parameters\n",
        "  -----------------------------------------------------------------------\n",
        "  a(tf.Tensor): Tensor on the left of the product.\n",
        "  b(tf.Tensor): Tensor on the right of the product.\n",
        "\n",
        "  Return\n",
        "  -----------------------------------------------------------------------\n",
        "  (tf.tensor): Kronocker product between a and b.\n",
        "\n",
        "  \"\"\"\n",
        "  assert len(a.shape) == 2\n",
        "  assert len(b.shape) == 2\n",
        "  a_shape = list(b.shape)    \n",
        "  b_shape = list(b.shape)\n",
        "  return tf.reshape(tf.reshape(a,[a_shape[0],1,a_shape[1],1])*tf.reshape(b,[1,b_shape[0],1,b_shape[1]]),[a_shape[0]*b_shape[0],a_shape[1]*b_shape[1]])\n",
        "\n",
        "\n",
        "#Creating pauli matrices\n",
        "sigma_0_np = np.array([[1.,0.],\n",
        "                      [0.,1.]], dtype=np.complex64)\n",
        "\n",
        "sigma_1_np = np.array([[0.,1.],\n",
        "                       [1.,0.]], dtype=np.complex64)\n",
        "\n",
        "sigma_2_np = np.array([[0.,1.j],\n",
        "                       [-1.j,0.]], dtype=np.complex64)\n",
        "\n",
        "sigma_3_np = np.array([[1.,0.],\n",
        "                       [0.,-1.]], dtype=np.complex64)\n",
        "\n",
        "#Converting to tensors\n",
        "sigma_0 = tf.Variable(sigma_0_np, tf.complex64)\n",
        "\n",
        "sigma_1 = tf.Variable(sigma_1_np, tf.complex64)\n",
        "\n",
        "sigma_2 = tf.Variable(sigma_2_np, tf.complex64)\n",
        "\n",
        "sigma_3 = tf.Variable(sigma_3_np, dtype=tf.complex64)\n",
        "\n",
        "def create_2qubit_density_mat(measurements: tf.Variable) -> tf.Variable:\n",
        "  \n",
        "  name_basis_1 = ['I', 'X', 'Y', 'Z']\n",
        "  basis_1 = [sigma_0, sigma_1,sigma_2,sigma_3]\n",
        "  name_basis_2 = []\n",
        "  basis_2 = []\n",
        "  for (name_1, meas_1),(name_2,meas_2) in product(zip(name_basis_1, basis_1),zip(name_basis_1, basis_1)):\n",
        "    if name_1 == 'I' and name_2 == 'I':\n",
        "      pass\n",
        "    else:\n",
        "      basis_2.append(tf_kron(meas_1,meas_2))\n",
        "      name_basis_2.append(name_1 + name_2)\n",
        "  \n",
        "  basis_2_tf = tf.Variable(basis_2, name='Basis')\n",
        "  \n",
        "  # Helper to make tr(density_matrix) = 1\n",
        "  \n",
        "  ones_II = tf.ones((tf.shape(measurements)[0],1), dtype=tf.dtypes.complex64)  \n",
        "  II = tf.Variable([tf_kron(sigma_0 , sigma_0)], name='II')\n",
        "  \n",
        "  density_matrix = 0.25*(tf.tensordot(ones_II , II ,axes=1) + tf.tensordot(measurements,basis_2_tf,axes=1))\n",
        "  return density_matrix\n",
        "\n",
        "def trace_dist(A,B):\n",
        "  dif = tf.math.subtract(A,B)  \n",
        "  dif = tf.transpose(dif, conjugate=True, perm=[0,2,1]) * dif  \n",
        "  vals = tf.linalg.eigvalsh(dif)\n",
        "  return tf.math.real(0.5*tf.reduce_sum(tf.math.sqrt(tf.math.abs(vals)),axis=-1))\n",
        "\n",
        "def trace_loss(y_true,y_pred):\n",
        "  y_true = tf.cast(y_true, tf.dtypes.complex64, name='Casting_true')\n",
        "  y_pred = tf.cast(y_pred, tf.dtypes.complex64, name='Casting_pred')\n",
        "  d_y_true = create_2qubit_density_mat(y_true)  \n",
        "  d_y_pred = create_2qubit_density_mat(y_pred)    \n",
        "  return tf.reduce_mean(trace_dist(d_y_pred,d_y_true))"
      ],
      "execution_count": 0,
      "outputs": []
    },
    {
      "cell_type": "code",
      "metadata": {
        "id": "vtQInJ6zk2RD",
        "colab_type": "code",
        "colab": {}
      },
      "source": [
        "from tensorflow.keras import layers\n",
        "\n",
        "class Sampling(layers.Layer):\n",
        "  \"\"\"Uses (z_mean, z_log_var) to sample z, the vector encoding a digit.\"\"\"\n",
        "\n",
        "  def call(self, inputs):\n",
        "    z_mean, z_log_var = inputs\n",
        "    batch = tf.shape(z_mean)[0]\n",
        "    dim = tf.shape(z_mean)[1]\n",
        "    epsilon = tf.keras.backend.random_normal(shape=(batch, dim))\n",
        "    return z_mean + tf.exp(0.5 * z_log_var) * epsilon\n",
        "\n",
        "\n",
        "class Encoder(layers.Layer):\n",
        "  \"\"\"Maps Input to a triplet (z_mean, z_log_var, z).\"\"\"\n",
        "\n",
        "  def __init__(self,\n",
        "               latent_dim=32,\n",
        "               intermediate_dim=64,\n",
        "               dtype='float64',\n",
        "               **kwargs):\n",
        "    \n",
        "    super(Encoder, self).__init__(**kwargs)\n",
        "    self.dense_proj = []\n",
        "    for i in intermediate_dim:\n",
        "      self.dense_proj.append(layers.Dense(i,\n",
        "                                          activation=tf.nn.relu))\n",
        "    \n",
        "\n",
        "    self.dense_mean = layers.Dense(latent_dim)\n",
        "    self.dense_log_var = layers.Dense(latent_dim)\n",
        "    self.sampling = Sampling()\n",
        "\n",
        "  def call(self, inputs):\n",
        "    x = self.dense_proj[0](inputs)\n",
        "    \n",
        "    for lay in self.dense_proj[1:]:\n",
        "      x = lay(x)\n",
        "    \n",
        "    z_mean = self.dense_mean(x)\n",
        "    z_log_var = self.dense_log_var(x)\n",
        "    z = self.sampling((z_mean, z_log_var))\n",
        "    return z_mean, z_log_var, z\n",
        "\n",
        "class Decoder(layers.Layer):\n",
        "  \"\"\"Converts z, the encoded digit vector, back into a readable digit.\"\"\"\n",
        "\n",
        "  def __init__(self,\n",
        "               original_dim,\n",
        "               intermediate_dim=64,               \n",
        "               **kwargs):\n",
        "    super(Decoder, self).__init__(**kwargs)\n",
        "\n",
        "    self.dense_proj = []\n",
        "    for i in intermediate_dim:\n",
        "      self.dense_proj.append(layers.Dense(i,\n",
        "                                          activation=tf.nn.relu))\n",
        "    \n",
        "    self.dense_output = layers.Dense(original_dim)\n",
        "\n",
        "  def call(self, inputs):\n",
        "    x = self.dense_proj[0](inputs)\n",
        "    \n",
        "    for lay in self.dense_proj[1:]:\n",
        "      x = lay(x)\n",
        "\n",
        "    return self.dense_output(x)"
      ],
      "execution_count": 0,
      "outputs": []
    },
    {
      "cell_type": "code",
      "metadata": {
        "id": "chkxmU9MltMs",
        "colab_type": "code",
        "colab": {}
      },
      "source": [
        "class VariationalAutoEncoder(tf.keras.Model):\n",
        "  \"\"\"Combines the encoder and decoder into an end-to-end model for training.\"\"\"\n",
        "\n",
        "  def __init__(self,\n",
        "               original_dim,\n",
        "               intermediate_dim,\n",
        "               latent_dim,               \n",
        "               **kwargs):\n",
        "    \n",
        "    super(VariationalAutoEncoder, self).__init__(**kwargs)\n",
        "    self.original_dim = original_dim\n",
        "    self.encoder = Encoder(latent_dim=latent_dim,\n",
        "                           intermediate_dim=intermediate_dim)\n",
        "    self.decoder = Decoder(original_dim, \n",
        "                           intermediate_dim=intermediate_dim)    \n",
        "\n",
        "  def call(self, inputs):\n",
        "    z_mean, z_log_var, z = self.encoder(inputs)\n",
        "    reconstructed = self.decoder(z)\n",
        "    # Add KL divergence regularization loss.\n",
        "    kl_loss = - 0.5 * tf.reduce_mean(\n",
        "        z_log_var - tf.square(z_mean) - tf.exp(z_log_var) + 1)    \n",
        "    self.add_loss(kl_loss)\n",
        "    return reconstructed\n",
        "\n",
        "  def training_step(self, x, r_loss, beta):\n",
        "    \"\"\"Training step for the VAE.\n",
        "  \n",
        "    Parameters\n",
        "    -------------------------------------------\n",
        "    x: Data\n",
        "    VAE(tf.keras.Model): Variational Autoencoder model. \n",
        "    optimizer(tf.keras.optimizer): Optimizer used.  \n",
        "    r_loss(float): Parameter controlling reconstruction loss.\n",
        "    beta(float): Parameter controlling the KL divergence.\n",
        "\n",
        "    Return:\n",
        "    Loss(float): Loss value of the training step.\n",
        "\n",
        "    \"\"\"\n",
        "    with tf.GradientTape() as tape:\n",
        "      reconstructed = self(x)#, training=True)  # Compute input reconstruction.\n",
        "      # Compute loss.\n",
        "      loss = trace_loss(x, reconstructed)\n",
        "      kl = sum(self.losses)\n",
        "      loss = r_loss * loss + beta*kl  \n",
        "    \n",
        "    # Update the weights of the VAE.\n",
        "    grads = tape.gradient(loss, self.trainable_weights)\n",
        "    self.optimizer.apply_gradients(zip(grads, self.trainable_weights))    \n",
        "    return loss\n",
        "\n",
        "  def training(self, dataset, \n",
        "             epochs, r_loss, beta,              \n",
        "             Plotter=None):\n",
        "    \"\"\" Training of the Variational Autoencoder for a \n",
        "    tensorflow.dataset.\n",
        "\n",
        "    Parameters\n",
        "    -------------------------------------------\n",
        "    dataset(tf.data.Dataset): Dataset of the data.\n",
        "    VAE(tf.keras.Model): Variational Autoencoder model.\n",
        "    epochs(int): Number of epochs.\n",
        "    r_loss(float): Parameter controlling reconstruction loss.\n",
        "    beta(float): Parameter controlling the KL divergence.  \n",
        "    Plotter(object): Plotter object to show how the training is\n",
        "                    going (Default=None).\n",
        "\n",
        "    \"\"\"\n",
        "\n",
        "    losses = []\n",
        "    epochs = range(epochs)\n",
        "\n",
        "    for i in tqdm(epochs, desc='Epochs'):\n",
        "      losses_epochs = []\n",
        "      for step, x in enumerate(dataset):\n",
        "\n",
        "        loss = self.training_step(x, r_loss, beta)\n",
        "  \n",
        "        # Logging.\n",
        "        losses_epochs.append(float(loss))\n",
        "      losses.append(np.mean(losses_epochs))\n",
        "    \n",
        "      if Plotter != None:\n",
        "        Plotter.plot(losses)\n",
        "\n",
        "    return losses "
      ],
      "execution_count": 0,
      "outputs": []
    },
    {
      "cell_type": "code",
      "metadata": {
        "id": "_Aff3MTxlvVQ",
        "colab_type": "code",
        "colab": {}
      },
      "source": [
        "@tf.function\n",
        "def training_step(x, VAE, optimizer,\n",
        "                  r_loss, beta):\n",
        "  \"\"\"Training step for the VAE.\n",
        "  \n",
        "  Parameters\n",
        "  -------------------------------------------\n",
        "  x: Data\n",
        "  VAE(tf.keras.Model): Variational Autoencoder model. \n",
        "  optimizer(tf.keras.optimizer): Optimizer used.  \n",
        "  r_loss(float): Parameter controlling reconstruction loss.\n",
        "  beta(float): Parameter controlling the KL divergence.\n",
        "\n",
        "  Return:\n",
        "  Loss(float): Loss value of the training step.\n",
        "\n",
        "  \"\"\"\n",
        "  with tf.GradientTape() as tape:\n",
        "      reconstructed = VAE(x)  # Compute input reconstruction.\n",
        "      # Compute loss.\n",
        "      loss = trace_loss(x, reconstructed)\n",
        "      kl = sum(VAE.losses)\n",
        "      loss = r_loss * loss + beta*kl  \n",
        "  # Update the weights of the VAE.\n",
        "  grads = tape.gradient(loss, VAE.trainable_weights)\n",
        "  optimizer.apply_gradients(zip(grads, VAE.trainable_weights))\n",
        "  return loss\n",
        "\n",
        "def training(dataset, VAE, optimizer, \n",
        "             epochs, r_loss, beta,              \n",
        "             Plotter=None):\n",
        "  \"\"\" Training of the Variational Autoencoder for a \n",
        "  tensorflow.dataset.\n",
        "\n",
        "  Parameters\n",
        "  -------------------------------------------\n",
        "  dataset(tf.data.Dataset): Dataset of the data.\n",
        "  VAE(tf.keras.Model): Variational Autoencoder model.\n",
        "  epochs(int): Number of epochs.\n",
        "  r_loss(float): Parameter controlling reconstruction loss.\n",
        "  beta(float): Parameter controlling the KL divergence.  \n",
        "  Plotter(object): Plotter object to show how the training is\n",
        "                  going (Default=None).\n",
        "\n",
        "  \"\"\"\n",
        "\n",
        "  losses = []\n",
        "  epochs = range(epochs)\n",
        "\n",
        "  for i in tqdm(epochs, desc='Epochs'):\n",
        "    losses_epochs = []\n",
        "    for step, x in enumerate(dataset):\n",
        "\n",
        "      loss = training_step(x, VAE, optimizer, r_loss, beta)\n",
        "  \n",
        "      # Logging.\n",
        "      losses_epochs.append(float(loss))\n",
        "    losses.append(np.mean(losses_epochs))\n",
        "    \n",
        "    if Plotter != None:\n",
        "      Plotter.plot(losses)\n",
        "\n",
        "  return losses  "
      ],
      "execution_count": 0,
      "outputs": []
    }
  ]
}