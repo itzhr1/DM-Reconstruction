{
  "nbformat": 4,
  "nbformat_minor": 0,
  "metadata": {
    "colab": {
      "name": "Trace Distance Tensorflow",
      "provenance": [],
      "collapsed_sections": [],
      "authorship_tag": "ABX9TyOac+gNUp+uPwv9AiMAeMyt",
      "include_colab_link": true
    },
    "kernelspec": {
      "name": "python3",
      "display_name": "Python 3"
    }
  },
  "cells": [
    {
      "cell_type": "markdown",
      "metadata": {
        "id": "view-in-github",
        "colab_type": "text"
      },
      "source": [
        "<a href=\"https://colab.research.google.com/github/nahumsa/DM-Reconstruction/blob/Tensorflow_test/Trace%20Distance%20Tensorflow.ipynb\" target=\"_parent\"><img src=\"https://colab.research.google.com/assets/colab-badge.svg\" alt=\"Open In Colab\"/></a>"
      ]
    },
    {
      "cell_type": "code",
      "metadata": {
        "id": "DW2FrLlAXiv6",
        "colab_type": "code",
        "outputId": "6291167e-0f26-4b11-90a8-c0d58c85f644",
        "colab": {
          "base_uri": "https://localhost:8080/",
          "height": 34
        }
      },
      "source": [
        "import tensorflow as tf\n",
        "from tensorflow import keras\n",
        "import numpy as np\n",
        "print(tf.__version__)"
      ],
      "execution_count": 83,
      "outputs": [
        {
          "output_type": "stream",
          "text": [
            "2.2.0-rc3\n"
          ],
          "name": "stdout"
        }
      ]
    },
    {
      "cell_type": "markdown",
      "metadata": {
        "id": "EoIPgpp3Ehm5",
        "colab_type": "text"
      },
      "source": [
        "# Tests"
      ]
    },
    {
      "cell_type": "code",
      "metadata": {
        "id": "sAPtn7AWXkrq",
        "colab_type": "code",
        "colab": {}
      },
      "source": [
        "#Creating pauli matrices\n",
        "sigma_0_np = np.array([[1.,0.],\n",
        "                      [0.,1.]], dtype=np.complex64)\n",
        "\n",
        "sigma_1_np = np.array([[0.,1.],\n",
        "                       [1.,0.]], dtype=np.complex64)\n",
        "\n",
        "sigma_2_np = np.array([[0.,1.j],\n",
        "                       [-1.j,0.]], dtype=np.complex64)\n",
        "\n",
        "sigma_3_np = np.array([[1.,0.],\n",
        "                       [0.,-1.]], dtype=np.complex64)\n",
        "\n",
        "#Converting to tensors\n",
        "sigma_0 = tf.Variable(sigma_0_np, tf.complex64)\n",
        "\n",
        "sigma_1 = tf.Variable(sigma_1_np, tf.complex64)\n",
        "\n",
        "sigma_2 = tf.Variable(sigma_2_np, tf.complex64)\n",
        "\n",
        "sigma_3 = tf.Variable(sigma_3_np, dtype=tf.complex64)"
      ],
      "execution_count": 0,
      "outputs": []
    },
    {
      "cell_type": "code",
      "metadata": {
        "id": "mcXTY2ho1Fl4",
        "colab_type": "code",
        "outputId": "8cbe50e9-eab7-48ad-d099-9c966232ab16",
        "colab": {
          "base_uri": "https://localhost:8080/",
          "height": 121
        }
      },
      "source": [
        "meas = [[1,1,0],[0,0,1],[0,1,1],[0,1,1],[.4,1,1]]\n",
        "measurement = np.array(meas, dtype=np.complex64)\n",
        "measurement_tensor = tf.Variable(measurement, tf.complex64)\n",
        "print(measurement_tensor)"
      ],
      "execution_count": 90,
      "outputs": [
        {
          "output_type": "stream",
          "text": [
            "<tf.Variable 'Variable:0' shape=(5, 3) dtype=complex64, numpy=\n",
            "array([[1. +0.j, 1. +0.j, 0. +0.j],\n",
            "       [0. +0.j, 0. +0.j, 1. +0.j],\n",
            "       [0. +0.j, 1. +0.j, 1. +0.j],\n",
            "       [0. +0.j, 1. +0.j, 1. +0.j],\n",
            "       [0.4+0.j, 1. +0.j, 1. +0.j]], dtype=complex64)>\n"
          ],
          "name": "stdout"
        }
      ]
    },
    {
      "cell_type": "code",
      "metadata": {
        "id": "6IyhtHsz2JPJ",
        "colab_type": "code",
        "colab": {}
      },
      "source": [
        "basis = tf.Variable([sigma_1,sigma_2,sigma_3])"
      ],
      "execution_count": 0,
      "outputs": []
    },
    {
      "cell_type": "code",
      "metadata": {
        "id": "OcCo3yVqXnN9",
        "colab_type": "code",
        "outputId": "5e87d0b2-e94b-43ab-d4e8-93b5f33dd70e",
        "colab": {
          "base_uri": "https://localhost:8080/",
          "height": 277
        }
      },
      "source": [
        "density_matrix = 0.5*(sigma_0 + tf.tensordot(measurement_tensor,basis,axes=1))\n",
        "print(density_matrix)"
      ],
      "execution_count": 92,
      "outputs": [
        {
          "output_type": "stream",
          "text": [
            "tf.Tensor(\n",
            "[[[0.5+0.j  0.5+0.5j]\n",
            "  [0.5-0.5j 0.5+0.j ]]\n",
            "\n",
            " [[1. +0.j  0. +0.j ]\n",
            "  [0. +0.j  0. +0.j ]]\n",
            "\n",
            " [[1. +0.j  0. +0.5j]\n",
            "  [0. -0.5j 0. +0.j ]]\n",
            "\n",
            " [[1. +0.j  0. +0.5j]\n",
            "  [0. -0.5j 0. +0.j ]]\n",
            "\n",
            " [[1. +0.j  0.2+0.5j]\n",
            "  [0.2-0.5j 0. +0.j ]]], shape=(5, 2, 2), dtype=complex64)\n"
          ],
          "name": "stdout"
        }
      ]
    },
    {
      "cell_type": "code",
      "metadata": {
        "id": "8dn81ksM3yPN",
        "colab_type": "code",
        "outputId": "e13904b2-206c-4dd9-b212-92c1c8fd21aa",
        "colab": {
          "base_uri": "https://localhost:8080/",
          "height": 121
        }
      },
      "source": [
        "tf.linalg.eigvalsh(density_matrix)"
      ],
      "execution_count": 95,
      "outputs": [
        {
          "output_type": "execute_result",
          "data": {
            "text/plain": [
              "<tf.Tensor: shape=(5, 2), dtype=complex64, numpy=\n",
              "array([[-0.20710672+0.j,  1.2071067 +0.j],\n",
              "       [ 0.        +0.j,  1.        +0.j],\n",
              "       [-0.20710677+0.j,  1.2071067 +0.j],\n",
              "       [-0.20710677+0.j,  1.2071067 +0.j],\n",
              "       [-0.2348469 +0.j,  1.234847  +0.j]], dtype=complex64)>"
            ]
          },
          "metadata": {
            "tags": []
          },
          "execution_count": 95
        }
      ]
    },
    {
      "cell_type": "markdown",
      "metadata": {
        "id": "uCu-zyXPEeF8",
        "colab_type": "text"
      },
      "source": [
        "# Methods"
      ]
    },
    {
      "cell_type": "code",
      "metadata": {
        "id": "R3Wb2PMtBh7I",
        "colab_type": "code",
        "colab": {}
      },
      "source": [
        "def create_density_mat(measurements: np.array) -> tf.Tensor:\n",
        "  \n",
        "  #Creating the basis\n",
        "  sigma_0_np = np.array([[1.,0.],\n",
        "                        [0.,1.]], dtype=np.complex64)\n",
        "\n",
        "  sigma_1_np = np.array([[0.,1.],\n",
        "                         [1.,0.]], dtype=np.complex64)\n",
        "\n",
        "  sigma_2_np = np.array([[0.,1.j],\n",
        "                         [-1.j,0.]], dtype=np.complex64)\n",
        "\n",
        "  sigma_3_np = np.array([[1.,0.],\n",
        "                        [0.,-1.]], dtype=np.complex64)\n",
        "\n",
        "  #Converting to tensors\n",
        "  sigma_0 = tf.Variable(sigma_0_np, tf.complex64)\n",
        "\n",
        "  sigma_1 = tf.Variable(sigma_1_np, tf.complex64)\n",
        "\n",
        "  sigma_2 = tf.Variable(sigma_2_np, tf.complex64)\n",
        "\n",
        "  sigma_3 = tf.Variable(sigma_3_np, dtype=tf.complex64)\n",
        "\n",
        "  basis = tf.Variable([sigma_1,sigma_2,sigma_3])\n",
        "  \n",
        "  measurement = np.array(measurements, dtype=np.complex64)\n",
        "  measurement_tensor = tf.Variable(measurement, tf.complex64)\n",
        "\n",
        "  density_matrix = 0.5*(sigma_0 + tf.tensordot(measurement_tensor,basis,axes=1))\n",
        "  return density_matrix\n"
      ],
      "execution_count": 0,
      "outputs": []
    },
    {
      "cell_type": "code",
      "metadata": {
        "id": "mbRaeozr4lWy",
        "colab_type": "code",
        "colab": {}
      },
      "source": [
        "def trace_dist(A,B):\n",
        "  dif = A - B\n",
        "  dif = tf.transpose(dif, conjugate=True, perm=[0,2,1]) * dif  \n",
        "  vals = tf.linalg.eigvalsh(dif)\n",
        "  return tf.math.real(0.5*tf.reduce_sum(tf.math.sqrt(tf.math.abs(vals)),axis=-1))"
      ],
      "execution_count": 0,
      "outputs": []
    },
    {
      "cell_type": "code",
      "metadata": {
        "id": "gRUCKmZuCGoc",
        "colab_type": "code",
        "colab": {}
      },
      "source": [
        "def trace_loss(y_true,y_pred):\n",
        "  d_y_true = create_density_mat(y_true)  \n",
        "  d_y_pred = create_density_mat(y_pred)  \n",
        "  return tf.reduce_mean(trace_dist(d_y_pred,d_y_true))"
      ],
      "execution_count": 0,
      "outputs": []
    },
    {
      "cell_type": "code",
      "metadata": {
        "id": "rkPfTyNqZJMB",
        "colab_type": "code",
        "colab": {
          "base_uri": "https://localhost:8080/",
          "height": 34
        },
        "outputId": "d4e6a6d0-2786-4b23-952a-6cb54346354c"
      },
      "source": [
        "y_1 = [[.5,.5,0],[.2,0.3,.3]]\n",
        "y_2 = [[1,0,0],[.2,.3,.3]]\n",
        "trace_loss(y_true=y_1, y_pred=y_2)"
      ],
      "execution_count": 139,
      "outputs": [
        {
          "output_type": "execute_result",
          "data": {
            "text/plain": [
              "<tf.Tensor: shape=(), dtype=float32, numpy=0.17677669>"
            ]
          },
          "metadata": {
            "tags": []
          },
          "execution_count": 139
        }
      ]
    },
    {
      "cell_type": "code",
      "metadata": {
        "id": "gFlClQNebnv7",
        "colab_type": "code",
        "colab": {}
      },
      "source": [
        ""
      ],
      "execution_count": 0,
      "outputs": []
    }
  ]
}