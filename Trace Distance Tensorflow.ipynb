{
  "nbformat": 4,
  "nbformat_minor": 0,
  "metadata": {
    "colab": {
      "name": "Trace Distance Tensorflow",
      "provenance": [],
      "collapsed_sections": [],
      "authorship_tag": "ABX9TyPo5tyUNUuOR22Df7JzIk19",
      "include_colab_link": true
    },
    "kernelspec": {
      "name": "python3",
      "display_name": "Python 3"
    }
  },
  "cells": [
    {
      "cell_type": "markdown",
      "metadata": {
        "id": "view-in-github",
        "colab_type": "text"
      },
      "source": [
        "<a href=\"https://colab.research.google.com/github/nahumsa/DM-Reconstruction/blob/Tensorflow_test/Trace%20Distance%20Tensorflow.ipynb\" target=\"_parent\"><img src=\"https://colab.research.google.com/assets/colab-badge.svg\" alt=\"Open In Colab\"/></a>"
      ]
    },
    {
      "cell_type": "code",
      "metadata": {
        "id": "DW2FrLlAXiv6",
        "colab_type": "code",
        "outputId": "0f7d7650-7250-4168-e75f-533e505b4726",
        "colab": {
          "base_uri": "https://localhost:8080/",
          "height": 34
        }
      },
      "source": [
        "import tensorflow as tf\n",
        "from tensorflow import keras\n",
        "import numpy as np\n",
        "print(tf.__version__)"
      ],
      "execution_count": 2,
      "outputs": [
        {
          "output_type": "stream",
          "text": [
            "2.2.0-rc3\n"
          ],
          "name": "stdout"
        }
      ]
    },
    {
      "cell_type": "markdown",
      "metadata": {
        "id": "EoIPgpp3Ehm5",
        "colab_type": "text"
      },
      "source": [
        "# Tests"
      ]
    },
    {
      "cell_type": "code",
      "metadata": {
        "id": "sAPtn7AWXkrq",
        "colab_type": "code",
        "colab": {}
      },
      "source": [
        "#Creating pauli matrices\n",
        "sigma_0_np = np.array([[1.,0.],\n",
        "                      [0.,1.]], dtype=np.complex64)\n",
        "\n",
        "sigma_1_np = np.array([[0.,1.],\n",
        "                       [1.,0.]], dtype=np.complex64)\n",
        "\n",
        "sigma_2_np = np.array([[0.,1.j],\n",
        "                       [-1.j,0.]], dtype=np.complex64)\n",
        "\n",
        "sigma_3_np = np.array([[1.,0.],\n",
        "                       [0.,-1.]], dtype=np.complex64)\n",
        "\n",
        "#Converting to tensors\n",
        "sigma_0 = tf.Variable(sigma_0_np, tf.complex64)\n",
        "\n",
        "sigma_1 = tf.Variable(sigma_1_np, tf.complex64)\n",
        "\n",
        "sigma_2 = tf.Variable(sigma_2_np, tf.complex64)\n",
        "\n",
        "sigma_3 = tf.Variable(sigma_3_np, dtype=tf.complex64)"
      ],
      "execution_count": 0,
      "outputs": []
    },
    {
      "cell_type": "code",
      "metadata": {
        "id": "AhNQlBsN5V52",
        "colab_type": "code",
        "colab": {
          "base_uri": "https://localhost:8080/",
          "height": 52
        },
        "outputId": "dff5dc13-dc25-4e1f-d3fa-cd589a3250e7"
      },
      "source": [
        "from itertools import product\n",
        "name_basis_1 = ['I', 'X', 'Y', 'Z']\n",
        "basis_1 = [sigma_0, sigma_1,sigma_2,sigma_3]\n",
        "name_basis_2 = []\n",
        "basis_2 = []\n",
        "for (name_1, meas_1),(name_2,meas_2) in product(zip(name_basis_1, basis_1),zip(name_basis_1, basis_1)):\n",
        "  if name_1 == 'I' and name_2 == 'I':\n",
        "    pass\n",
        "  else:\n",
        "    basis_2.append(tf.tensordot(meas_1,meas_2,axes=0))\n",
        "    name_basis_2.append(name_1 + name_2)\n",
        "\n",
        "basis_2_tf = tf.Variable(basis_2)\n",
        "print(name_basis_2)\n",
        "print(basis_2_tf.shape)"
      ],
      "execution_count": 79,
      "outputs": [
        {
          "output_type": "stream",
          "text": [
            "['IX', 'IY', 'IZ', 'XI', 'XX', 'XY', 'XZ', 'YI', 'YX', 'YY', 'YZ', 'ZI', 'ZX', 'ZY', 'ZZ']\n",
            "(15, 2, 2, 2, 2)\n"
          ],
          "name": "stdout"
        }
      ]
    },
    {
      "cell_type": "code",
      "metadata": {
        "id": "mcXTY2ho1Fl4",
        "colab_type": "code",
        "outputId": "0560bc12-e60c-48d2-c61d-06b1127b2b64",
        "colab": {
          "base_uri": "https://localhost:8080/",
          "height": 104
        }
      },
      "source": [
        "#meas = [np.random.rand(15),np.random.rand(15),np.random.rand(15),np.random.rand(15)]\n",
        "#measurement = np.array(meas, dtype=np.complex64)\n",
        "meas_1 = [np.random.rand(15)]\n",
        "measurement = np.array(meas_1, dtype=np.complex64)\n",
        "measurement_tensor = tf.Variable(measurement, tf.complex64)\n",
        "#print(measurement_tensor)"
      ],
      "execution_count": 95,
      "outputs": [
        {
          "output_type": "stream",
          "text": [
            "<tf.Variable 'Variable:0' shape=(1, 15) dtype=complex64, numpy=\n",
            "array([[0.29690507+0.j, 0.7638097 +0.j, 0.9178417 +0.j, 0.41568556+0.j,\n",
            "        0.596676  +0.j, 0.22739619+0.j, 0.8641635 +0.j, 0.71199936+0.j,\n",
            "        0.96396905+0.j, 0.244707  +0.j, 0.20325921+0.j, 0.46136403+0.j,\n",
            "        0.47117528+0.j, 0.931769  +0.j, 0.5679348 +0.j]], dtype=complex64)>\n"
          ],
          "name": "stdout"
        }
      ]
    },
    {
      "cell_type": "code",
      "metadata": {
        "id": "DGOQboKQF5sU",
        "colab_type": "code",
        "colab": {
          "base_uri": "https://localhost:8080/",
          "height": 34
        },
        "outputId": "6cca2c8a-77c5-442e-897e-26ec3807a564"
      },
      "source": [
        "ones_II = tf.ones((measurement_tensor.shape[0],1), dtype=tf.dtypes.complex64)\n",
        "II = tf.Variable([tf.tensordot(sigma_0 , sigma_0, axes=0)])\n",
        "density_matrix = 0.25*(tf.tensordot(ones_II , II ,axes=1) + tf.tensordot(measurement_tensor,basis_2_tf,axes=1))\n",
        "print(density_matrix.shape)"
      ],
      "execution_count": 89,
      "outputs": [
        {
          "output_type": "stream",
          "text": [
            "(1, 2, 2, 2, 2)\n"
          ],
          "name": "stdout"
        }
      ]
    },
    {
      "cell_type": "code",
      "metadata": {
        "id": "M1PHcUDqJJBw",
        "colab_type": "code",
        "colab": {
          "base_uri": "https://localhost:8080/",
          "height": 34
        },
        "outputId": "6023a9db-8377-4bf4-e3cd-2347436d5e52"
      },
      "source": [
        "mean_density_matrix = tf.reduce_sum(density_matrix, axis=0)\n",
        "print(tf.linalg.trace(tf.linalg.trace(mean_density_matrix)))"
      ],
      "execution_count": 94,
      "outputs": [
        {
          "output_type": "stream",
          "text": [
            "tf.Tensor((1+0j), shape=(), dtype=complex64)\n"
          ],
          "name": "stdout"
        }
      ]
    },
    {
      "cell_type": "code",
      "metadata": {
        "id": "8dn81ksM3yPN",
        "colab_type": "code",
        "outputId": "47cd4a3d-2420-470c-aaeb-38077577f5a2",
        "colab": {
          "base_uri": "https://localhost:8080/",
          "height": 121
        }
      },
      "source": [
        "tf.linalg.eigvalsh(density_matrix)"
      ],
      "execution_count": 60,
      "outputs": [
        {
          "output_type": "execute_result",
          "data": {
            "text/plain": [
              "<tf.Tensor: shape=(2, 2, 2), dtype=complex64, numpy=\n",
              "array([[[ 0.12169091+0.j,  0.5714514 +0.j],\n",
              "        [-0.00929919+0.j,  0.24463826+0.j]],\n",
              "\n",
              "       [[-0.09903219+0.j,  0.33437124+0.j],\n",
              "        [ 0.06098602+0.j,  0.24587153+0.j]]], dtype=complex64)>"
            ]
          },
          "metadata": {
            "tags": []
          },
          "execution_count": 60
        }
      ]
    },
    {
      "cell_type": "markdown",
      "metadata": {
        "id": "uCu-zyXPEeF8",
        "colab_type": "text"
      },
      "source": [
        "# Methods"
      ]
    },
    {
      "cell_type": "markdown",
      "metadata": {
        "id": "p7oEIzibLWxj",
        "colab_type": "text"
      },
      "source": [
        "## One qubit"
      ]
    },
    {
      "cell_type": "code",
      "metadata": {
        "id": "EheMlNygLVi5",
        "colab_type": "code",
        "colab": {}
      },
      "source": [
        ""
      ],
      "execution_count": 0,
      "outputs": []
    },
    {
      "cell_type": "code",
      "metadata": {
        "id": "R3Wb2PMtBh7I",
        "colab_type": "code",
        "colab": {}
      },
      "source": [
        "def create_density_mat(measurements: np.array) -> tf.Tensor:\n",
        "  \n",
        "  #Creating the basis\n",
        "  sigma_0_np = np.array([[1.,0.],\n",
        "                        [0.,1.]], dtype=np.complex64)\n",
        "\n",
        "  sigma_1_np = np.array([[0.,1.],\n",
        "                         [1.,0.]], dtype=np.complex64)\n",
        "\n",
        "  sigma_2_np = np.array([[0.,1.j],\n",
        "                         [-1.j,0.]], dtype=np.complex64)\n",
        "\n",
        "  sigma_3_np = np.array([[1.,0.],\n",
        "                        [0.,-1.]], dtype=np.complex64)\n",
        "\n",
        "  #Converting to tensors\n",
        "  sigma_0 = tf.Variable(sigma_0_np, tf.complex64)\n",
        "\n",
        "  sigma_1 = tf.Variable(sigma_1_np, tf.complex64)\n",
        "\n",
        "  sigma_2 = tf.Variable(sigma_2_np, tf.complex64)\n",
        "\n",
        "  sigma_3 = tf.Variable(sigma_3_np, dtype=tf.complex64)\n",
        "\n",
        "  basis = tf.Variable([sigma_1,sigma_2,sigma_3])\n",
        "  \n",
        "  measurement = np.array(measurements, dtype=np.complex64)\n",
        "  measurement_tensor = tf.Variable(measurement, tf.complex64)\n",
        "\n",
        "  density_matrix = 0.5*(sigma_0 + tf.tensordot(measurement_tensor,basis,axes=1))\n",
        "  return density_matrix\n"
      ],
      "execution_count": 0,
      "outputs": []
    },
    {
      "cell_type": "code",
      "metadata": {
        "id": "mbRaeozr4lWy",
        "colab_type": "code",
        "colab": {}
      },
      "source": [
        "def trace_dist(A,B):\n",
        "  dif = A - B\n",
        "  dif = tf.transpose(dif, conjugate=True, perm=[0,2,1]) * dif  \n",
        "  vals = tf.linalg.eigvalsh(dif)\n",
        "  return tf.math.real(0.5*tf.reduce_sum(tf.math.sqrt(tf.math.abs(vals)),axis=-1))"
      ],
      "execution_count": 0,
      "outputs": []
    },
    {
      "cell_type": "code",
      "metadata": {
        "id": "gRUCKmZuCGoc",
        "colab_type": "code",
        "colab": {}
      },
      "source": [
        "def trace_loss(y_true,y_pred):\n",
        "  d_y_true = create_density_mat(y_true)  \n",
        "  d_y_pred = create_density_mat(y_pred)  \n",
        "  return tf.reduce_mean(trace_dist(d_y_pred,d_y_true))"
      ],
      "execution_count": 0,
      "outputs": []
    },
    {
      "cell_type": "code",
      "metadata": {
        "id": "rkPfTyNqZJMB",
        "colab_type": "code",
        "outputId": "d4e6a6d0-2786-4b23-952a-6cb54346354c",
        "colab": {
          "base_uri": "https://localhost:8080/",
          "height": 34
        }
      },
      "source": [
        "y_1 = [[.5,.5,0],[.2,0.3,.3]]\n",
        "y_2 = [[1,0,0],[.2,.3,.3]]\n",
        "trace_loss(y_true=y_1, y_pred=y_2)"
      ],
      "execution_count": 0,
      "outputs": [
        {
          "output_type": "execute_result",
          "data": {
            "text/plain": [
              "<tf.Tensor: shape=(), dtype=float32, numpy=0.17677669>"
            ]
          },
          "metadata": {
            "tags": []
          },
          "execution_count": 139
        }
      ]
    },
    {
      "cell_type": "markdown",
      "metadata": {
        "id": "diG3ommrLb-0",
        "colab_type": "text"
      },
      "source": [
        "## Two qubits"
      ]
    },
    {
      "cell_type": "code",
      "metadata": {
        "id": "iBZEWCUTJ-hh",
        "colab_type": "code",
        "colab": {}
      },
      "source": [
        "from itertools import product\n",
        "#Creating pauli matrices\n",
        "sigma_0_np = np.array([[1.,0.],\n",
        "                      [0.,1.]], dtype=np.complex64)\n",
        "\n",
        "sigma_1_np = np.array([[0.,1.],\n",
        "                       [1.,0.]], dtype=np.complex64)\n",
        "\n",
        "sigma_2_np = np.array([[0.,1.j],\n",
        "                       [-1.j,0.]], dtype=np.complex64)\n",
        "\n",
        "sigma_3_np = np.array([[1.,0.],\n",
        "                       [0.,-1.]], dtype=np.complex64)\n",
        "\n",
        "#Converting to tensors\n",
        "sigma_0 = tf.Variable(sigma_0_np, tf.complex64)\n",
        "\n",
        "sigma_1 = tf.Variable(sigma_1_np, tf.complex64)\n",
        "\n",
        "sigma_2 = tf.Variable(sigma_2_np, tf.complex64)\n",
        "\n",
        "sigma_3 = tf.Variable(sigma_3_np, dtype=tf.complex64)\n",
        "\n",
        "def create_2qubit_density_mat(measurements: tf.Variable) -> tf.Variable:\n",
        "  \n",
        "  name_basis_1 = ['I', 'X', 'Y', 'Z']\n",
        "  basis_1 = [sigma_0, sigma_1,sigma_2,sigma_3]\n",
        "  name_basis_2 = []\n",
        "  basis_2 = []\n",
        "  for (name_1, meas_1),(name_2,meas_2) in product(zip(name_basis_1, basis_1),zip(name_basis_1, basis_1)):\n",
        "    if name_1 == 'I' and name_2 == 'I':\n",
        "      pass\n",
        "    else:\n",
        "      basis_2.append(tf.tensordot(meas_1,meas_2,axes=0))\n",
        "      name_basis_2.append(name_1 + name_2)\n",
        "  basis_2_tf = tf.Variable(basis_2)\n",
        "  ones_II = tf.ones((measurement_tensor.shape[0],1), dtype=tf.dtypes.complex64)\n",
        "  II = tf.Variable([tf.tensordot(sigma_0 , sigma_0, axes=0)])\n",
        "  density_matrix = 0.25*(tf.tensordot(ones_II , II ,axes=1) + tf.tensordot(measurement_tensor,basis_2_tf,axes=1))\n",
        "  return density_matrix"
      ],
      "execution_count": 0,
      "outputs": []
    },
    {
      "cell_type": "code",
      "metadata": {
        "id": "gFlClQNebnv7",
        "colab_type": "code",
        "colab": {
          "base_uri": "https://localhost:8080/",
          "height": 260
        },
        "outputId": "9a4624d8-627c-472c-8e1b-3653ec1f25d4"
      },
      "source": [
        "create_2qubit_density_mat(meas_1)"
      ],
      "execution_count": 98,
      "outputs": [
        {
          "output_type": "execute_result",
          "data": {
            "text/plain": [
              "<tf.Tensor: shape=(1, 2, 2, 2, 2), dtype=complex64, numpy=\n",
              "array([[[[[ 0.7367851 +0.j        ,  0.19202009+0.42389467j],\n",
              "          [ 0.19202009-0.42389467j, -0.0061031 +0.j        ]],\n",
              "\n",
              "         [[ 0.31996226+0.22881465j,  0.08799225+0.2978413j ],\n",
              "          [ 0.21034575+0.18414322j, -0.11211949+0.12718503j]]],\n",
              "\n",
              "\n",
              "        [[[ 0.31996226-0.22881465j,  0.21034575-0.18414322j],\n",
              "          [ 0.08799225-0.2978413j , -0.11211949-0.12718503j]],\n",
              "\n",
              "         [[ 0.22213571+0.j        , -0.04356755-0.04198983j],\n",
              "          [-0.04356755+0.04198983j,  0.04718228+0.j        ]]]]],\n",
              "      dtype=complex64)>"
            ]
          },
          "metadata": {
            "tags": []
          },
          "execution_count": 98
        }
      ]
    },
    {
      "cell_type": "code",
      "metadata": {
        "id": "I5pgkzKCLrUi",
        "colab_type": "code",
        "colab": {}
      },
      "source": [
        ""
      ],
      "execution_count": 0,
      "outputs": []
    }
  ]
}